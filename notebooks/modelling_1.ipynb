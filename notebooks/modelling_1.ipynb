{
 "cells": [
  {
   "cell_type": "markdown",
   "metadata": {},
   "source": [
    "# Petfinder.my competition: modelling, part one"
   ]
  },
  {
   "cell_type": "markdown",
   "metadata": {},
   "source": [
    "## Introduction"
   ]
  },
  {
   "cell_type": "markdown",
   "metadata": {},
   "source": [
    "## Libraries and misc function defs"
   ]
  },
  {
   "cell_type": "code",
   "execution_count": 1,
   "metadata": {},
   "outputs": [],
   "source": [
    "import os\n",
    "import itertools\n",
    "from collections import Counter\n",
    "\n",
    "import feather\n",
    "\n",
    "import numpy as np\n",
    "import pandas as pd\n",
    "\n",
    "from sklearn.model_selection import train_test_split, GridSearchCV, StratifiedKFold\n",
    "from sklearn.metrics import cohen_kappa_score, confusion_matrix\n",
    "\n",
    "import lightgbm as lgb\n",
    "\n",
    "import matplotlib.pyplot as plt\n",
    "import seaborn as sns"
   ]
  },
  {
   "cell_type": "code",
   "execution_count": 103,
   "metadata": {},
   "outputs": [],
   "source": [
    "def plot_average_confmatrix(confusion_matrices:list, normalise:bool=True):\n",
    "    mean_confmatrix = confusion_matrix(y_train, np.round(np.mean(lgb_preds, axis=1)))\n",
    "    if normalise:\n",
    "        mean_confmatrix = mean_confmatrix.astype('float') / mean_confmatrix.sum(axis=1)[:, np.newaxis]\n",
    "    plt.figure(figsize=(8, 6))\n",
    "    sns.heatmap(mean_confmatrix, annot=True)\n",
    "    plt.ylabel('Actual label')\n",
    "    plt.xlabel('Predicted label')\n",
    "    if normalise:\n",
    "        plt.title('Normalised confusion matrix')\n",
    "    else:\n",
    "        plt.title('Confusion matrix')\n",
    "    plt.show()"
   ]
  },
  {
   "cell_type": "markdown",
   "metadata": {},
   "source": [
    "## Loading data"
   ]
  },
  {
   "cell_type": "code",
   "execution_count": 2,
   "metadata": {},
   "outputs": [],
   "source": [
    "INPUT_PATH = os.path.join(os.pardir, 'data', 'interim')"
   ]
  },
  {
   "cell_type": "code",
   "execution_count": 3,
   "metadata": {},
   "outputs": [],
   "source": [
    "all_train = feather.read_dataframe(os.path.join(INPUT_PATH, 'train.feather'))\n",
    "all_test = feather.read_dataframe(os.path.join(INPUT_PATH, 'test.feather'))"
   ]
  },
  {
   "cell_type": "markdown",
   "metadata": {},
   "source": [
    "## Preparing data"
   ]
  },
  {
   "cell_type": "markdown",
   "metadata": {},
   "source": [
    "Splits the training data into training and validation data sets. The size of the validation data was calculated to match the size of the final unseen testing data relative to the original training data."
   ]
  },
  {
   "cell_type": "code",
   "execution_count": 4,
   "metadata": {},
   "outputs": [],
   "source": [
    "cat_colnames = ['RescuerID', 'PetID', 'PrimaryLabel', 'SecondaryLabel']"
   ]
  },
  {
   "cell_type": "code",
   "execution_count": 5,
   "metadata": {},
   "outputs": [],
   "source": [
    "# Dealing with categorical data\n",
    "all_data = [all_train, all_test]\n",
    "\n",
    "for df in all_data:\n",
    "    for col in cat_colnames:\n",
    "        df[col] = pd.Categorical(df[col])\n",
    "        df[col] = df[col].cat.codes\n",
    "        df[col] = pd.Categorical(df[col])"
   ]
  },
  {
   "cell_type": "code",
   "execution_count": 6,
   "metadata": {},
   "outputs": [],
   "source": [
    "drop_cols = ['Name', 'Description', 'AdoptionSpeed']"
   ]
  },
  {
   "cell_type": "code",
   "execution_count": 7,
   "metadata": {},
   "outputs": [],
   "source": [
    "X_train = all_train.drop(drop_cols, axis=1)\n",
    "y_train = all_train['AdoptionSpeed']"
   ]
  },
  {
   "cell_type": "code",
   "execution_count": 8,
   "metadata": {},
   "outputs": [],
   "source": [
    "# X_train, X_valid, y_train, y_valid = train_test_split(training_data, training_labels,\n",
    "#                                                      test_size=len(all_test) / len(all_train))"
   ]
  },
  {
   "cell_type": "code",
   "execution_count": 9,
   "metadata": {},
   "outputs": [
    {
     "name": "stdout",
     "output_type": "stream",
     "text": [
      "(14993, 346) (14993,)\n"
     ]
    }
   ],
   "source": [
    "print(X_train.shape, y_train.shape)"
   ]
  },
  {
   "cell_type": "markdown",
   "metadata": {},
   "source": [
    "## LightGBM: classification model"
   ]
  },
  {
   "cell_type": "markdown",
   "metadata": {},
   "source": [
    "Fits a LightGBM classification model."
   ]
  },
  {
   "cell_type": "markdown",
   "metadata": {},
   "source": [
    "### Scoring"
   ]
  },
  {
   "cell_type": "markdown",
   "metadata": {},
   "source": [
    "The competition uses the quadratic weighted kappa for scoring."
   ]
  },
  {
   "cell_type": "code",
   "execution_count": 10,
   "metadata": {},
   "outputs": [],
   "source": [
    "def kappa_metric(predictions, actuals):\n",
    "    \"\"\"\n",
    "    Competition scores are calculated with the quadratic weighted kappa.\n",
    "    The cohen_kappa_score from sklearn.metrics is identical\n",
    "    \"\"\"\n",
    "    return cohen_kappa_score(predictions, actuals, weights='quadratic')"
   ]
  },
  {
   "cell_type": "markdown",
   "metadata": {},
   "source": [
    "### Model parameters"
   ]
  },
  {
   "cell_type": "code",
   "execution_count": 12,
   "metadata": {},
   "outputs": [],
   "source": [
    "params = {'objective': 'softmax',\n",
    "          'num_class': 5,\n",
    "          'boosting': 'gbdt',\n",
    "          'nthread': 4,\n",
    "          'num_iterations': 10000,\n",
    "          'learning_rate': 0.01,\n",
    "          'num_leaves': 80,\n",
    "          'max_depth': -1,\n",
    "          'min_data_in_leaf': 60,\n",
    "          'min_sum_hessian_in_leaf': 0.01,\n",
    "          'bagging_fraction': 0.75,\n",
    "          'bagging_frequency': 2,\n",
    "          'feature_fraction': 0.75,\n",
    "          'lambda_l2': 0.05,\n",
    "          'min_gain_to_split': 0.0,\n",
    "          'max_bin': 255,\n",
    "          'early_stopping_rounds': 100,\n",
    "          'data_random_seed': 42,\n",
    "          'verbosity': -1,\n",
    "          'verbose_eval': 100\n",
    "         }"
   ]
  },
  {
   "cell_type": "markdown",
   "metadata": {},
   "source": [
    "### Model and CV functions"
   ]
  },
  {
   "cell_type": "code",
   "execution_count": 13,
   "metadata": {},
   "outputs": [],
   "source": [
    "def lgb_model(train_data, train_labels, valid_data, valid_labels,\n",
    "              model_params, scoring_metric, X_test=None):\n",
    "    \n",
    "    # Create training and validation lgb dataset objects\n",
    "    lgb_X_train = lgb.Dataset(data=train_data, label=train_labels,\n",
    "                              feature_name='auto', categorical_feature='auto',\n",
    "                              free_raw_data=False)\n",
    "    lgb_X_valid = lgb.Dataset(data=valid_data, label=valid_labels,\n",
    "                              feature_name='auto', categorical_feature='auto',\n",
    "                              free_raw_data=False)\n",
    "    \n",
    "    # Get parameters\n",
    "    params2 = model_params.copy()\n",
    "    num_iterations = params2.pop('num_iterations')\n",
    "    early_stopping = params2.pop('early_stopping_rounds')\n",
    "    verbose_eval = params2.pop('verbose_eval')\n",
    "    \n",
    "    # Train LightGBM model\n",
    "    print(\"Training the LightGBM model...\")\n",
    "    model = lgb.train(params2,\n",
    "                          lgb_X_train,\n",
    "                          num_boost_round=num_iterations,\n",
    "                          valid_sets=[lgb_X_train, lgb_X_valid],\n",
    "                          early_stopping_rounds=early_stopping,\n",
    "                          verbose_eval=verbose_eval)\n",
    "    \n",
    "    # Get model predictions on validation set\n",
    "    print(\"Fitting the model to the validation data...\")\n",
    "    y_probs = model.predict(valid_data, num_iteration=model.best_iteration,\n",
    "                           verbose_eval=verbose_eval) # Class probabilities from model\n",
    "    \n",
    "    \n",
    "    y_preds = np.apply_along_axis(np.argmax, 1, y_probs) # Get label value according to highest probability\n",
    "    qwk = scoring_metric(y_preds, valid_labels) # Compute kappa score\n",
    "    conf_matrix = confusion_matrix(valid_labels, y_preds)\n",
    "    importances = model.feature_importance() # Get feature importances\n",
    "    \n",
    "    print(\"-\" * 40)\n",
    "    print(f\"Actual distribution of labels: {Counter(valid_labels)}\")\n",
    "    print(f\"Predicted distribution of labels: {Counter(y_preds)}\")\n",
    "    print(f\"CV split QWK score: {qwk}\")\n",
    "    print(\"Confusion matrix:\\n\", conf_matrix)\n",
    "    print(\"-\" * 40)\n",
    "    \n",
    "    return y_probs, y_preds, qwk, conf_matrix, importances"
   ]
  },
  {
   "cell_type": "code",
   "execution_count": 14,
   "metadata": {},
   "outputs": [],
   "source": [
    "def cv_model(X:pd.DataFrame, y:list, nsplits:int, params):\n",
    "    fold_counter = 1 #The current fold number\n",
    "    skf = StratifiedKFold(n_splits=nsplits, shuffle=True)\n",
    "    \n",
    "    lgb_preds = np.zeros((X.shape[0], nsplits))\n",
    "    lgb_pred_probs = []\n",
    "    lgb_confusion_matrices = []\n",
    "    lgb_qwk_scores = []\n",
    "    feature_importances = pd.DataFrame()\n",
    "    \n",
    "    for train_index, valid_index in skf.split(X, y):\n",
    "        print(f\"Fold {fold_counter} / {nsplits}:\")\n",
    "        X_train, X_valid = X.iloc[train_index], X.iloc[valid_index]\n",
    "        y_train, y_valid = y[train_index], y[valid_index]\n",
    "        \n",
    "        # Fit model\n",
    "        y_probs, y_preds, qwk, conf_matrix, imps = lgb_model(X_train, y_train, X_valid, y_valid, params, kappa_metric)\n",
    "        \n",
    "        lgb_preds[valid_index] = y_preds.reshape(-1, 1)\n",
    "        lgb_pred_probs.append(y_probs)\n",
    "        lgb_qwk_scores.append(qwk)\n",
    "        lgb_confusion_matrices.append(conf_matrix)\n",
    "        \n",
    "        fold_importances = pd.DataFrame()\n",
    "        fold_importances['Features'] = X.columns.values\n",
    "        fold_importances['Importance'] = imps\n",
    "        fold_importances['FoldNum'] = fold_counter\n",
    "        feature_importances = pd.concat([feature_importances, fold_importances], axis=0)\n",
    "        fold_counter += 1\n",
    "\n",
    "    print(\"=\" * 40)\n",
    "    print(f\"QWK scores: {lgb_qwk_scores}\")\n",
    "    print(f\"Mean QWK score: {np.mean(lgb_qwk_scores)}\")\n",
    "    print(f\"QWK score sd: {np.std(lgb_qwk_scores)}\")\n",
    "    return lgb_pred_probs, lgb_preds, lgb_qwk_scores, lgb_confusion_matrices, feature_importances"
   ]
  },
  {
   "cell_type": "markdown",
   "metadata": {},
   "source": [
    "### Run the model"
   ]
  },
  {
   "cell_type": "code",
   "execution_count": 15,
   "metadata": {},
   "outputs": [],
   "source": [
    "# lgb_pred_probs, lgb_preds, lgb_qwk_scores, lgb_confusion_matrices = cv_model(X_train, y_train, 5, params)"
   ]
  },
  {
   "cell_type": "code",
   "execution_count": 19,
   "metadata": {
    "scrolled": true
   },
   "outputs": [
    {
     "name": "stdout",
     "output_type": "stream",
     "text": [
      "Fold 1 / 5:\n",
      "Training the LightGBM model...\n"
     ]
    },
    {
     "name": "stderr",
     "output_type": "stream",
     "text": [
      "/home/david/Envs/petfinder/lib/python3.6/site-packages/lightgbm/basic.py:752: UserWarning: categorical_feature in param dict is overridden.\n",
      "  warnings.warn('categorical_feature in param dict is overridden.')\n"
     ]
    },
    {
     "name": "stdout",
     "output_type": "stream",
     "text": [
      "Training until validation scores don't improve for 100 rounds.\n",
      "[100]\ttraining's multi_logloss: 1.22532\tvalid_1's multi_logloss: 1.35714\n",
      "[200]\ttraining's multi_logloss: 1.0636\tvalid_1's multi_logloss: 1.311\n",
      "[300]\ttraining's multi_logloss: 0.935603\tvalid_1's multi_logloss: 1.28653\n",
      "[400]\ttraining's multi_logloss: 0.829355\tvalid_1's multi_logloss: 1.27256\n",
      "[500]\ttraining's multi_logloss: 0.738832\tvalid_1's multi_logloss: 1.26488\n",
      "[600]\ttraining's multi_logloss: 0.660858\tvalid_1's multi_logloss: 1.26215\n",
      "[700]\ttraining's multi_logloss: 0.593001\tvalid_1's multi_logloss: 1.26061\n",
      "[800]\ttraining's multi_logloss: 0.53339\tvalid_1's multi_logloss: 1.26075\n",
      "Early stopping, best iteration is:\n",
      "[746]\ttraining's multi_logloss: 0.564723\tvalid_1's multi_logloss: 1.26041\n",
      "Fitting the model to the validation data...\n",
      "----------------------------------------\n",
      "Actual distribution of labels: Counter({4: 840, 2: 808, 3: 652, 1: 618, 0: 82})\n",
      "Predicted distribution of labels: Counter({4: 1208, 2: 768, 1: 567, 3: 446, 0: 11})\n",
      "CV split QWK score: 0.3910499044899528\n",
      "Confusion matrix:\n",
      " [[  7  21  19   7  28]\n",
      " [  2 228 189  60 139]\n",
      " [  2 152 307 148 199]\n",
      " [  0  94 166 190 202]\n",
      " [  0  72  87  41 640]]\n",
      "----------------------------------------\n",
      "Fold 2 / 5:\n",
      "Training the LightGBM model...\n",
      "Training until validation scores don't improve for 100 rounds.\n",
      "[100]\ttraining's multi_logloss: 1.22415\tvalid_1's multi_logloss: 1.36173\n",
      "[200]\ttraining's multi_logloss: 1.06135\tvalid_1's multi_logloss: 1.31692\n",
      "[300]\ttraining's multi_logloss: 0.9338\tvalid_1's multi_logloss: 1.29405\n",
      "[400]\ttraining's multi_logloss: 0.827679\tvalid_1's multi_logloss: 1.27964\n",
      "[500]\ttraining's multi_logloss: 0.737323\tvalid_1's multi_logloss: 1.27286\n",
      "[600]\ttraining's multi_logloss: 0.659251\tvalid_1's multi_logloss: 1.2696\n",
      "[700]\ttraining's multi_logloss: 0.591286\tvalid_1's multi_logloss: 1.26832\n",
      "[800]\ttraining's multi_logloss: 0.531756\tvalid_1's multi_logloss: 1.2685\n",
      "Early stopping, best iteration is:\n",
      "[721]\ttraining's multi_logloss: 0.578102\tvalid_1's multi_logloss: 1.26792\n",
      "Fitting the model to the validation data...\n",
      "----------------------------------------\n",
      "Actual distribution of labels: Counter({4: 840, 2: 808, 3: 652, 1: 618, 0: 82})\n",
      "Predicted distribution of labels: Counter({4: 1246, 2: 807, 1: 545, 3: 393, 0: 9})\n",
      "CV split QWK score: 0.39248056736256254\n",
      "Confusion matrix:\n",
      " [[  6  23  19   7  27]\n",
      " [  3 225 185  49 156]\n",
      " [  0 147 333 120 208]\n",
      " [  0  93 175 174 210]\n",
      " [  0  57  95  43 645]]\n",
      "----------------------------------------\n",
      "Fold 3 / 5:\n",
      "Training the LightGBM model...\n",
      "Training until validation scores don't improve for 100 rounds.\n",
      "[100]\ttraining's multi_logloss: 1.22261\tvalid_1's multi_logloss: 1.35818\n",
      "[200]\ttraining's multi_logloss: 1.05955\tvalid_1's multi_logloss: 1.31246\n",
      "[300]\ttraining's multi_logloss: 0.932022\tvalid_1's multi_logloss: 1.28759\n",
      "[400]\ttraining's multi_logloss: 0.826085\tvalid_1's multi_logloss: 1.2729\n",
      "[500]\ttraining's multi_logloss: 0.736067\tvalid_1's multi_logloss: 1.26542\n",
      "[600]\ttraining's multi_logloss: 0.658364\tvalid_1's multi_logloss: 1.26204\n",
      "[700]\ttraining's multi_logloss: 0.590793\tvalid_1's multi_logloss: 1.26045\n",
      "[800]\ttraining's multi_logloss: 0.531605\tvalid_1's multi_logloss: 1.26093\n",
      "Early stopping, best iteration is:\n",
      "[726]\ttraining's multi_logloss: 0.574692\tvalid_1's multi_logloss: 1.26024\n",
      "Fitting the model to the validation data...\n",
      "----------------------------------------\n",
      "Actual distribution of labels: Counter({4: 839, 2: 807, 3: 652, 1: 618, 0: 82})\n",
      "Predicted distribution of labels: Counter({4: 1224, 2: 816, 1: 582, 3: 367, 0: 9})\n",
      "CV split QWK score: 0.42264461952048893\n",
      "Confusion matrix:\n",
      " [[  5  21  24   9  23]\n",
      " [  3 239 199  46 131]\n",
      " [  1 179 303 119 205]\n",
      " [  0  80 203 159 210]\n",
      " [  0  63  87  34 655]]\n",
      "----------------------------------------\n",
      "Fold 4 / 5:\n",
      "Training the LightGBM model...\n",
      "Training until validation scores don't improve for 100 rounds.\n",
      "[100]\ttraining's multi_logloss: 1.22424\tvalid_1's multi_logloss: 1.35801\n",
      "[200]\ttraining's multi_logloss: 1.06167\tvalid_1's multi_logloss: 1.31169\n",
      "[300]\ttraining's multi_logloss: 0.933778\tvalid_1's multi_logloss: 1.28695\n",
      "[400]\ttraining's multi_logloss: 0.827528\tvalid_1's multi_logloss: 1.27396\n",
      "[500]\ttraining's multi_logloss: 0.737286\tvalid_1's multi_logloss: 1.26741\n",
      "[600]\ttraining's multi_logloss: 0.659739\tvalid_1's multi_logloss: 1.26518\n",
      "[700]\ttraining's multi_logloss: 0.591976\tvalid_1's multi_logloss: 1.26437\n",
      "[800]\ttraining's multi_logloss: 0.532684\tvalid_1's multi_logloss: 1.26463\n",
      "Early stopping, best iteration is:\n",
      "[739]\ttraining's multi_logloss: 0.56797\tvalid_1's multi_logloss: 1.26396\n",
      "Fitting the model to the validation data...\n",
      "----------------------------------------\n",
      "Actual distribution of labels: Counter({4: 839, 2: 807, 3: 652, 1: 618, 0: 82})\n",
      "Predicted distribution of labels: Counter({4: 1245, 2: 814, 1: 524, 3: 410, 0: 5})\n",
      "CV split QWK score: 0.3757000805147891\n",
      "Confusion matrix:\n",
      " [[  3  24  23   3  29]\n",
      " [  1 220 180  60 157]\n",
      " [  0 140 313 130 224]\n",
      " [  1  83 200 183 185]\n",
      " [  0  57  98  34 650]]\n",
      "----------------------------------------\n",
      "Fold 5 / 5:\n",
      "Training the LightGBM model...\n",
      "Training until validation scores don't improve for 100 rounds.\n",
      "[100]\ttraining's multi_logloss: 1.22501\tvalid_1's multi_logloss: 1.35942\n",
      "[200]\ttraining's multi_logloss: 1.0621\tvalid_1's multi_logloss: 1.31185\n",
      "[300]\ttraining's multi_logloss: 0.935496\tvalid_1's multi_logloss: 1.28605\n",
      "[400]\ttraining's multi_logloss: 0.829844\tvalid_1's multi_logloss: 1.27083\n",
      "[500]\ttraining's multi_logloss: 0.740177\tvalid_1's multi_logloss: 1.26142\n",
      "[600]\ttraining's multi_logloss: 0.662426\tvalid_1's multi_logloss: 1.25611\n",
      "[700]\ttraining's multi_logloss: 0.594692\tvalid_1's multi_logloss: 1.25276\n",
      "[800]\ttraining's multi_logloss: 0.535173\tvalid_1's multi_logloss: 1.25048\n",
      "[900]\ttraining's multi_logloss: 0.482619\tvalid_1's multi_logloss: 1.25019\n",
      "[1000]\ttraining's multi_logloss: 0.436272\tvalid_1's multi_logloss: 1.2519\n",
      "Early stopping, best iteration is:\n",
      "[917]\ttraining's multi_logloss: 0.474358\tvalid_1's multi_logloss: 1.25011\n",
      "Fitting the model to the validation data...\n",
      "----------------------------------------\n",
      "Actual distribution of labels: Counter({4: 839, 2: 807, 3: 651, 1: 618, 0: 82})\n",
      "Predicted distribution of labels: Counter({4: 1222, 2: 829, 1: 533, 3: 407, 0: 6})\n",
      "CV split QWK score: 0.41348693021865135\n",
      "Confusion matrix:\n",
      " [[  4  22  20   9  27]\n",
      " [  1 253 191  60 113]\n",
      " [  0 122 314 129 242]\n",
      " [  1  82 202 175 191]\n",
      " [  0  54 102  34 649]]\n",
      "----------------------------------------\n",
      "========================================\n",
      "QWK scores: [0.3910499044899528, 0.39248056736256254, 0.42264461952048893, 0.3757000805147891, 0.41348693021865135]\n",
      "Mean QWK score: 0.39907242042128893\n",
      "QWK score sd: 0.016837495207969205\n"
     ]
    }
   ],
   "source": [
    "params = {'objective': 'softmax',\n",
    "          'num_class': 5,\n",
    "          'boosting': 'gbdt',\n",
    "          'nthread': 4,\n",
    "          'num_iterations': 10000,\n",
    "          'learning_rate': 0.01,\n",
    "          'num_leaves': 60,\n",
    "          'max_depth': -1,\n",
    "          'min_data_in_leaf': 120,\n",
    "          'min_sum_hessian_in_leaf': 0.01,\n",
    "          'bagging_fraction': 0.8,\n",
    "          'bagging_frequency': 2,\n",
    "          'feature_fraction': 0.8,\n",
    "          'lambda_l2': 0.05,\n",
    "          'min_gain_to_split': 0.0,\n",
    "          'max_bin': 255,\n",
    "          'early_stopping_rounds': 100,\n",
    "          'data_random_seed': 42,\n",
    "          'verbosity': -1,\n",
    "          'verbose_eval': 100\n",
    "         }\n",
    "\n",
    "lgb_pred_probs, lgb_preds, lgb_qwk_scores, lgb_confusion_matrices, feature_importances = cv_model(X_train,\n",
    "                                                                                                  y_train, \n",
    "                                                                                                  5, \n",
    "                                                                                                  params)"
   ]
  },
  {
   "cell_type": "markdown",
   "metadata": {},
   "source": [
    "### Feature importances"
   ]
  },
  {
   "cell_type": "code",
   "execution_count": 27,
   "metadata": {},
   "outputs": [],
   "source": [
    "mean_importances = feature_importances.groupby('Features')[\"Features\", \"Importance\"].mean().reset_index()\\\n",
    "                                        .sort_values('Importance', ascending=False)"
   ]
  },
  {
   "cell_type": "code",
   "execution_count": 29,
   "metadata": {},
   "outputs": [
    {
     "data": {
      "text/html": [
       "<div>\n",
       "<style scoped>\n",
       "    .dataframe tbody tr th:only-of-type {\n",
       "        vertical-align: middle;\n",
       "    }\n",
       "\n",
       "    .dataframe tbody tr th {\n",
       "        vertical-align: top;\n",
       "    }\n",
       "\n",
       "    .dataframe thead th {\n",
       "        text-align: right;\n",
       "    }\n",
       "</style>\n",
       "<table border=\"1\" class=\"dataframe\">\n",
       "  <thead>\n",
       "    <tr style=\"text-align: right;\">\n",
       "      <th></th>\n",
       "      <th>Importance</th>\n",
       "    </tr>\n",
       "  </thead>\n",
       "  <tbody>\n",
       "    <tr>\n",
       "      <th>count</th>\n",
       "      <td>346.000000</td>\n",
       "    </tr>\n",
       "    <tr>\n",
       "      <th>mean</th>\n",
       "      <td>642.215029</td>\n",
       "    </tr>\n",
       "    <tr>\n",
       "      <th>std</th>\n",
       "      <td>390.971315</td>\n",
       "    </tr>\n",
       "    <tr>\n",
       "      <th>min</th>\n",
       "      <td>0.000000</td>\n",
       "    </tr>\n",
       "    <tr>\n",
       "      <th>25%</th>\n",
       "      <td>563.000000</td>\n",
       "    </tr>\n",
       "    <tr>\n",
       "      <th>50%</th>\n",
       "      <td>619.500000</td>\n",
       "    </tr>\n",
       "    <tr>\n",
       "      <th>75%</th>\n",
       "      <td>677.400000</td>\n",
       "    </tr>\n",
       "    <tr>\n",
       "      <th>max</th>\n",
       "      <td>6729.000000</td>\n",
       "    </tr>\n",
       "  </tbody>\n",
       "</table>\n",
       "</div>"
      ],
      "text/plain": [
       "        Importance\n",
       "count   346.000000\n",
       "mean    642.215029\n",
       "std     390.971315\n",
       "min       0.000000\n",
       "25%     563.000000\n",
       "50%     619.500000\n",
       "75%     677.400000\n",
       "max    6729.000000"
      ]
     },
     "execution_count": 29,
     "metadata": {},
     "output_type": "execute_result"
    }
   ],
   "source": [
    "mean_importances.describe()"
   ]
  },
  {
   "cell_type": "code",
   "execution_count": 42,
   "metadata": {},
   "outputs": [],
   "source": [
    "drop_features = list(mean_importances['Features'][mean_importances['Importance'] < \n",
    "                                                       mean_importances['Importance'].median()])"
   ]
  },
  {
   "cell_type": "markdown",
   "metadata": {},
   "source": [
    "Features which had importances below the median importance were dropped from the training data."
   ]
  },
  {
   "cell_type": "code",
   "execution_count": 46,
   "metadata": {},
   "outputs": [],
   "source": [
    "X_train_reduced = X_train.drop(drop_features, axis=1)"
   ]
  },
  {
   "cell_type": "markdown",
   "metadata": {},
   "source": [
    "### Refitting model"
   ]
  },
  {
   "cell_type": "code",
   "execution_count": 51,
   "metadata": {},
   "outputs": [
    {
     "name": "stdout",
     "output_type": "stream",
     "text": [
      "Fold 1 / 5:\n",
      "Training the LightGBM model...\n"
     ]
    },
    {
     "name": "stderr",
     "output_type": "stream",
     "text": [
      "/home/david/Envs/petfinder/lib/python3.6/site-packages/lightgbm/basic.py:752: UserWarning: categorical_feature in param dict is overridden.\n",
      "  warnings.warn('categorical_feature in param dict is overridden.')\n"
     ]
    },
    {
     "name": "stdout",
     "output_type": "stream",
     "text": [
      "Training until validation scores don't improve for 100 rounds.\n",
      "[100]\ttraining's multi_logloss: 1.25222\tvalid_1's multi_logloss: 1.37374\n",
      "[200]\ttraining's multi_logloss: 1.10097\tvalid_1's multi_logloss: 1.32661\n",
      "[300]\ttraining's multi_logloss: 0.982391\tvalid_1's multi_logloss: 1.30099\n",
      "[400]\ttraining's multi_logloss: 0.885237\tvalid_1's multi_logloss: 1.2863\n",
      "[500]\ttraining's multi_logloss: 0.8001\tvalid_1's multi_logloss: 1.2777\n",
      "[600]\ttraining's multi_logloss: 0.726176\tvalid_1's multi_logloss: 1.27058\n",
      "[700]\ttraining's multi_logloss: 0.66185\tvalid_1's multi_logloss: 1.26759\n",
      "[800]\ttraining's multi_logloss: 0.604327\tvalid_1's multi_logloss: 1.26582\n",
      "[900]\ttraining's multi_logloss: 0.552458\tvalid_1's multi_logloss: 1.2635\n",
      "Early stopping, best iteration is:\n",
      "[888]\ttraining's multi_logloss: 0.55826\tvalid_1's multi_logloss: 1.26334\n",
      "Fitting the model to the validation data...\n",
      "----------------------------------------\n",
      "Actual distribution of labels: Counter({4: 840, 2: 808, 3: 652, 1: 618, 0: 82})\n",
      "Predicted distribution of labels: Counter({4: 1194, 2: 881, 1: 521, 3: 400, 0: 4})\n",
      "CV split QWK score: 0.3902863243249728\n",
      "Confusion matrix:\n",
      " [[  3  26  21   5  27]\n",
      " [  1 221 196  49 151]\n",
      " [  0 138 339 128 203]\n",
      " [  0  88 212 176 176]\n",
      " [  0  48 113  42 637]]\n",
      "----------------------------------------\n",
      "Fold 2 / 5:\n",
      "Training the LightGBM model...\n",
      "Training until validation scores don't improve for 100 rounds.\n",
      "[100]\ttraining's multi_logloss: 1.25097\tvalid_1's multi_logloss: 1.36941\n",
      "[200]\ttraining's multi_logloss: 1.10133\tvalid_1's multi_logloss: 1.32147\n",
      "[300]\ttraining's multi_logloss: 0.98317\tvalid_1's multi_logloss: 1.29244\n",
      "[400]\ttraining's multi_logloss: 0.885584\tvalid_1's multi_logloss: 1.27494\n",
      "[500]\ttraining's multi_logloss: 0.800954\tvalid_1's multi_logloss: 1.26481\n",
      "[600]\ttraining's multi_logloss: 0.727765\tvalid_1's multi_logloss: 1.25729\n",
      "[700]\ttraining's multi_logloss: 0.663578\tvalid_1's multi_logloss: 1.25311\n",
      "[800]\ttraining's multi_logloss: 0.606187\tvalid_1's multi_logloss: 1.25103\n",
      "[900]\ttraining's multi_logloss: 0.554923\tvalid_1's multi_logloss: 1.2502\n",
      "[1000]\ttraining's multi_logloss: 0.509238\tvalid_1's multi_logloss: 1.24966\n",
      "Early stopping, best iteration is:\n",
      "[961]\ttraining's multi_logloss: 0.526184\tvalid_1's multi_logloss: 1.24938\n",
      "Fitting the model to the validation data...\n",
      "----------------------------------------\n",
      "Actual distribution of labels: Counter({4: 840, 2: 808, 3: 652, 1: 618, 0: 82})\n",
      "Predicted distribution of labels: Counter({4: 1172, 2: 911, 1: 505, 3: 400, 0: 12})\n",
      "CV split QWK score: 0.41505384970217196\n",
      "Confusion matrix:\n",
      " [[  7  25  20   7  23]\n",
      " [  2 237 200  58 121]\n",
      " [  1 118 360 113 216]\n",
      " [  1  76 206 182 187]\n",
      " [  1  49 125  40 625]]\n",
      "----------------------------------------\n",
      "Fold 3 / 5:\n",
      "Training the LightGBM model...\n",
      "Training until validation scores don't improve for 100 rounds.\n",
      "[100]\ttraining's multi_logloss: 1.25246\tvalid_1's multi_logloss: 1.37092\n",
      "[200]\ttraining's multi_logloss: 1.1028\tvalid_1's multi_logloss: 1.32616\n",
      "[300]\ttraining's multi_logloss: 0.985016\tvalid_1's multi_logloss: 1.29762\n",
      "[400]\ttraining's multi_logloss: 0.887036\tvalid_1's multi_logloss: 1.28232\n",
      "[500]\ttraining's multi_logloss: 0.802495\tvalid_1's multi_logloss: 1.27303\n",
      "[600]\ttraining's multi_logloss: 0.728974\tvalid_1's multi_logloss: 1.26551\n",
      "[700]\ttraining's multi_logloss: 0.664029\tvalid_1's multi_logloss: 1.2633\n",
      "[800]\ttraining's multi_logloss: 0.606686\tvalid_1's multi_logloss: 1.26101\n",
      "[900]\ttraining's multi_logloss: 0.555683\tvalid_1's multi_logloss: 1.25995\n",
      "[1000]\ttraining's multi_logloss: 0.509948\tvalid_1's multi_logloss: 1.26016\n",
      "Early stopping, best iteration is:\n",
      "[919]\ttraining's multi_logloss: 0.546405\tvalid_1's multi_logloss: 1.25961\n",
      "Fitting the model to the validation data...\n",
      "----------------------------------------\n",
      "Actual distribution of labels: Counter({4: 839, 2: 807, 3: 652, 1: 618, 0: 82})\n",
      "Predicted distribution of labels: Counter({4: 1179, 2: 867, 1: 554, 3: 394, 0: 4})\n",
      "CV split QWK score: 0.41808885658496253\n",
      "Confusion matrix:\n",
      " [[  4  25  24  11  18]\n",
      " [  0 233 196  56 133]\n",
      " [  0 151 340 113 203]\n",
      " [  0  90 214 166 182]\n",
      " [  0  55  93  48 643]]\n",
      "----------------------------------------\n",
      "Fold 4 / 5:\n",
      "Training the LightGBM model...\n",
      "Training until validation scores don't improve for 100 rounds.\n",
      "[100]\ttraining's multi_logloss: 1.25165\tvalid_1's multi_logloss: 1.38064\n",
      "[200]\ttraining's multi_logloss: 1.10159\tvalid_1's multi_logloss: 1.33685\n",
      "[300]\ttraining's multi_logloss: 0.982612\tvalid_1's multi_logloss: 1.31109\n",
      "[400]\ttraining's multi_logloss: 0.883797\tvalid_1's multi_logloss: 1.29444\n",
      "[500]\ttraining's multi_logloss: 0.798793\tvalid_1's multi_logloss: 1.28483\n",
      "[600]\ttraining's multi_logloss: 0.725577\tvalid_1's multi_logloss: 1.27892\n",
      "[700]\ttraining's multi_logloss: 0.660604\tvalid_1's multi_logloss: 1.2757\n",
      "[800]\ttraining's multi_logloss: 0.602897\tvalid_1's multi_logloss: 1.2744\n",
      "[900]\ttraining's multi_logloss: 0.55126\tvalid_1's multi_logloss: 1.27307\n",
      "Early stopping, best iteration is:\n",
      "[893]\ttraining's multi_logloss: 0.554618\tvalid_1's multi_logloss: 1.27282\n",
      "Fitting the model to the validation data...\n",
      "----------------------------------------\n",
      "Actual distribution of labels: Counter({4: 839, 2: 807, 3: 652, 1: 618, 0: 82})\n",
      "Predicted distribution of labels: Counter({4: 1246, 2: 759, 1: 580, 3: 411, 0: 2})\n",
      "CV split QWK score: 0.37826288070732506\n",
      "Confusion matrix:\n",
      " [[  2  24  17   8  31]\n",
      " [  0 243 167  69 139]\n",
      " [  0 154 290 122 241]\n",
      " [  0  99 190 182 181]\n",
      " [  0  60  95  30 654]]\n",
      "----------------------------------------\n",
      "Fold 5 / 5:\n",
      "Training the LightGBM model...\n",
      "Training until validation scores don't improve for 100 rounds.\n",
      "[100]\ttraining's multi_logloss: 1.25406\tvalid_1's multi_logloss: 1.37166\n",
      "[200]\ttraining's multi_logloss: 1.10361\tvalid_1's multi_logloss: 1.32411\n",
      "[300]\ttraining's multi_logloss: 0.985967\tvalid_1's multi_logloss: 1.29763\n",
      "[400]\ttraining's multi_logloss: 0.8861\tvalid_1's multi_logloss: 1.27884\n",
      "[500]\ttraining's multi_logloss: 0.801577\tvalid_1's multi_logloss: 1.26884\n",
      "[600]\ttraining's multi_logloss: 0.727789\tvalid_1's multi_logloss: 1.2631\n",
      "[700]\ttraining's multi_logloss: 0.663305\tvalid_1's multi_logloss: 1.26078\n",
      "[800]\ttraining's multi_logloss: 0.605805\tvalid_1's multi_logloss: 1.25948\n",
      "[900]\ttraining's multi_logloss: 0.554367\tvalid_1's multi_logloss: 1.25949\n",
      "Early stopping, best iteration is:\n",
      "[854]\ttraining's multi_logloss: 0.576975\tvalid_1's multi_logloss: 1.25881\n",
      "Fitting the model to the validation data...\n",
      "----------------------------------------\n",
      "Actual distribution of labels: Counter({4: 839, 2: 807, 3: 651, 1: 618, 0: 82})\n",
      "Predicted distribution of labels: Counter({4: 1221, 2: 832, 1: 563, 3: 374, 0: 7})\n",
      "CV split QWK score: 0.4021576878022465\n",
      "Confusion matrix:\n",
      " [[  5  23  21   3  30]\n",
      " [  1 241 198  51 127]\n",
      " [  0 151 324 111 221]\n",
      " [  1  81 188 174 207]\n",
      " [  0  67 101  35 636]]\n",
      "----------------------------------------\n",
      "========================================\n",
      "QWK scores: [0.3902863243249728, 0.41505384970217196, 0.41808885658496253, 0.37826288070732506, 0.4021576878022465]\n",
      "Mean QWK score: 0.40076991982433585\n",
      "QWK score sd: 0.014982487828414605\n"
     ]
    }
   ],
   "source": [
    "params = {'objective': 'softmax',\n",
    "          'num_class': 5,\n",
    "          'boosting': 'gbdt',\n",
    "          'nthread': 4,\n",
    "          'num_iterations': 10000,\n",
    "          'learning_rate': 0.01,\n",
    "          'num_leaves': 60,\n",
    "          'max_depth': -1,\n",
    "          'min_data_in_leaf': 80,\n",
    "          'min_sum_hessian_in_leaf': 0.05,\n",
    "          'bagging_fraction': 0.8,\n",
    "          'bagging_freq': 100,\n",
    "          'feature_fraction': 0.5,\n",
    "          'lambda_l2': 0.05,\n",
    "          'min_gain_to_split': 0.001,\n",
    "          'max_bin': 255,\n",
    "          'early_stopping_rounds': 100,\n",
    "          'data_random_seed': 42,\n",
    "          'verbosity': -1,\n",
    "          'verbose_eval': 100\n",
    "         }\n",
    "\n",
    "lgb_pred_probs, lgb_preds, lgb_qwk_scores, lgb_confusion_matrices, feature_importances = cv_model(X_train_reduced,\n",
    "                                                                                                  y_train, \n",
    "                                                                                                  5, \n",
    "                                                                                                  params)"
   ]
  },
  {
   "cell_type": "code",
   "execution_count": 66,
   "metadata": {},
   "outputs": [
    {
     "name": "stdout",
     "output_type": "stream",
     "text": [
      "Fold 1 / 5:\n",
      "Training the LightGBM model...\n"
     ]
    },
    {
     "name": "stderr",
     "output_type": "stream",
     "text": [
      "/home/david/Envs/petfinder/lib/python3.6/site-packages/lightgbm/basic.py:752: UserWarning: categorical_feature in param dict is overridden.\n",
      "  warnings.warn('categorical_feature in param dict is overridden.')\n"
     ]
    },
    {
     "name": "stdout",
     "output_type": "stream",
     "text": [
      "Training until validation scores don't improve for 100 rounds.\n",
      "[100]\ttraining's multi_logloss: 1.23213\tvalid_1's multi_logloss: 1.36069\n",
      "[200]\ttraining's multi_logloss: 1.07674\tvalid_1's multi_logloss: 1.31424\n",
      "[300]\ttraining's multi_logloss: 0.955458\tvalid_1's multi_logloss: 1.29012\n",
      "[400]\ttraining's multi_logloss: 0.854997\tvalid_1's multi_logloss: 1.27479\n",
      "[500]\ttraining's multi_logloss: 0.769479\tvalid_1's multi_logloss: 1.26735\n",
      "[600]\ttraining's multi_logloss: 0.695062\tvalid_1's multi_logloss: 1.26214\n",
      "[700]\ttraining's multi_logloss: 0.630148\tvalid_1's multi_logloss: 1.25886\n",
      "[800]\ttraining's multi_logloss: 0.57195\tvalid_1's multi_logloss: 1.25729\n",
      "Early stopping, best iteration is:\n",
      "[793]\ttraining's multi_logloss: 0.575685\tvalid_1's multi_logloss: 1.2572\n",
      "Fitting the model to the validation data...\n",
      "----------------------------------------\n",
      "Actual distribution of labels: Counter({4: 840, 2: 808, 3: 652, 1: 618, 0: 82})\n",
      "Predicted distribution of labels: Counter({4: 1191, 2: 847, 1: 545, 3: 411, 0: 6})\n",
      "CV split QWK score: 0.40725498919537306\n",
      "Confusion matrix:\n",
      " [[  6  20  25   6  25]\n",
      " [  0 232 184  57 145]\n",
      " [  0 159 333 124 192]\n",
      " [  0  84 203 177 188]\n",
      " [  0  50 102  47 641]]\n",
      "----------------------------------------\n",
      "Fold 2 / 5:\n",
      "Training the LightGBM model...\n",
      "Training until validation scores don't improve for 100 rounds.\n",
      "[100]\ttraining's multi_logloss: 1.233\tvalid_1's multi_logloss: 1.36361\n",
      "[200]\ttraining's multi_logloss: 1.07829\tvalid_1's multi_logloss: 1.31693\n",
      "[300]\ttraining's multi_logloss: 0.957744\tvalid_1's multi_logloss: 1.29264\n",
      "[400]\ttraining's multi_logloss: 0.857718\tvalid_1's multi_logloss: 1.28017\n",
      "[500]\ttraining's multi_logloss: 0.772117\tvalid_1's multi_logloss: 1.27054\n",
      "[600]\ttraining's multi_logloss: 0.698309\tvalid_1's multi_logloss: 1.26558\n",
      "[700]\ttraining's multi_logloss: 0.633408\tvalid_1's multi_logloss: 1.26429\n",
      "[800]\ttraining's multi_logloss: 0.574998\tvalid_1's multi_logloss: 1.2635\n",
      "[900]\ttraining's multi_logloss: 0.523736\tvalid_1's multi_logloss: 1.26363\n",
      "Early stopping, best iteration is:\n",
      "[842]\ttraining's multi_logloss: 0.552338\tvalid_1's multi_logloss: 1.26294\n",
      "Fitting the model to the validation data...\n",
      "----------------------------------------\n",
      "Actual distribution of labels: Counter({4: 840, 2: 808, 3: 652, 1: 618, 0: 82})\n",
      "Predicted distribution of labels: Counter({4: 1208, 2: 823, 1: 554, 3: 409, 0: 6})\n",
      "CV split QWK score: 0.39462494225780853\n",
      "Confusion matrix:\n",
      " [[  3  22  26   5  26]\n",
      " [  1 236 180  62 139]\n",
      " [  1 150 327 124 206]\n",
      " [  1  81 193 176 201]\n",
      " [  0  65  97  42 636]]\n",
      "----------------------------------------\n",
      "Fold 3 / 5:\n",
      "Training the LightGBM model...\n",
      "Training until validation scores don't improve for 100 rounds.\n",
      "[100]\ttraining's multi_logloss: 1.23146\tvalid_1's multi_logloss: 1.35988\n",
      "[200]\ttraining's multi_logloss: 1.07651\tvalid_1's multi_logloss: 1.31162\n",
      "[300]\ttraining's multi_logloss: 0.954671\tvalid_1's multi_logloss: 1.28571\n",
      "[400]\ttraining's multi_logloss: 0.854606\tvalid_1's multi_logloss: 1.27305\n",
      "[500]\ttraining's multi_logloss: 0.769332\tvalid_1's multi_logloss: 1.2656\n",
      "[600]\ttraining's multi_logloss: 0.69475\tvalid_1's multi_logloss: 1.26325\n",
      "[700]\ttraining's multi_logloss: 0.62923\tvalid_1's multi_logloss: 1.26133\n",
      "[800]\ttraining's multi_logloss: 0.571058\tvalid_1's multi_logloss: 1.26112\n",
      "Early stopping, best iteration is:\n",
      "[736]\ttraining's multi_logloss: 0.606952\tvalid_1's multi_logloss: 1.26034\n",
      "Fitting the model to the validation data...\n",
      "----------------------------------------\n",
      "Actual distribution of labels: Counter({4: 839, 2: 807, 3: 652, 1: 618, 0: 82})\n",
      "Predicted distribution of labels: Counter({4: 1200, 2: 836, 1: 537, 3: 421, 0: 4})\n",
      "CV split QWK score: 0.39982818953045474\n",
      "Confusion matrix:\n",
      " [[  3  26  18  11  24]\n",
      " [  1 223 199  57 138]\n",
      " [  0 155 319 127 206]\n",
      " [  0  78 189 190 195]\n",
      " [  0  55 111  36 637]]\n",
      "----------------------------------------\n",
      "Fold 4 / 5:\n",
      "Training the LightGBM model...\n",
      "Training until validation scores don't improve for 100 rounds.\n",
      "[100]\ttraining's multi_logloss: 1.23317\tvalid_1's multi_logloss: 1.36187\n",
      "[200]\ttraining's multi_logloss: 1.07924\tvalid_1's multi_logloss: 1.31509\n",
      "[300]\ttraining's multi_logloss: 0.958701\tvalid_1's multi_logloss: 1.2891\n",
      "[400]\ttraining's multi_logloss: 0.856939\tvalid_1's multi_logloss: 1.27623\n",
      "[500]\ttraining's multi_logloss: 0.770512\tvalid_1's multi_logloss: 1.26594\n",
      "[600]\ttraining's multi_logloss: 0.695243\tvalid_1's multi_logloss: 1.26195\n",
      "[700]\ttraining's multi_logloss: 0.630161\tvalid_1's multi_logloss: 1.26073\n",
      "Early stopping, best iteration is:\n",
      "[684]\ttraining's multi_logloss: 0.639737\tvalid_1's multi_logloss: 1.26054\n",
      "Fitting the model to the validation data...\n",
      "----------------------------------------\n",
      "Actual distribution of labels: Counter({4: 839, 2: 807, 3: 652, 1: 618, 0: 82})\n",
      "Predicted distribution of labels: Counter({4: 1193, 2: 834, 1: 554, 3: 408, 0: 9})\n",
      "CV split QWK score: 0.3698221377344364\n",
      "Confusion matrix:\n",
      " [[  7  16  23   7  29]\n",
      " [  2 230 179  57 150]\n",
      " [  0 147 325 123 212]\n",
      " [  0 100 194 187 171]\n",
      " [  0  61 113  34 631]]\n",
      "----------------------------------------\n",
      "Fold 5 / 5:\n",
      "Training the LightGBM model...\n",
      "Training until validation scores don't improve for 100 rounds.\n",
      "[100]\ttraining's multi_logloss: 1.23371\tvalid_1's multi_logloss: 1.36258\n",
      "[200]\ttraining's multi_logloss: 1.07778\tvalid_1's multi_logloss: 1.31815\n",
      "[300]\ttraining's multi_logloss: 0.955232\tvalid_1's multi_logloss: 1.29346\n",
      "[400]\ttraining's multi_logloss: 0.854514\tvalid_1's multi_logloss: 1.27993\n",
      "[500]\ttraining's multi_logloss: 0.769329\tvalid_1's multi_logloss: 1.27309\n",
      "[600]\ttraining's multi_logloss: 0.69494\tvalid_1's multi_logloss: 1.27175\n",
      "[700]\ttraining's multi_logloss: 0.629381\tvalid_1's multi_logloss: 1.26988\n",
      "Early stopping, best iteration is:\n",
      "[677]\ttraining's multi_logloss: 0.643534\tvalid_1's multi_logloss: 1.26962\n",
      "Fitting the model to the validation data...\n",
      "----------------------------------------\n",
      "Actual distribution of labels: Counter({4: 839, 2: 807, 3: 651, 1: 618, 0: 82})\n",
      "Predicted distribution of labels: Counter({4: 1239, 2: 826, 1: 552, 3: 373, 0: 7})\n",
      "CV split QWK score: 0.38375012910251705\n",
      "Confusion matrix:\n",
      " [[  4  24  19   4  31]\n",
      " [  2 233 192  48 143]\n",
      " [  0 149 301 125 232]\n",
      " [  0  94 200 168 189]\n",
      " [  1  52 114  28 644]]\n",
      "----------------------------------------\n",
      "========================================\n",
      "QWK scores: [0.40725498919537306, 0.39462494225780853, 0.39982818953045474, 0.3698221377344364, 0.38375012910251705]\n",
      "Mean QWK score: 0.391056077564118\n",
      "QWK score sd: 0.013087005503193905\n"
     ]
    }
   ],
   "source": [
    "params = {'objective': 'softmax',\n",
    "          'num_class': 5,\n",
    "          'boosting': 'gbdt',\n",
    "          'nthread': 4,\n",
    "          'num_iterations': 10000,\n",
    "          'learning_rate': 0.01,\n",
    "          'num_leaves': 60,\n",
    "          'max_depth': -1,\n",
    "          'min_data_in_leaf': 80,\n",
    "          'min_sum_hessian_in_leaf': 0.05,\n",
    "          'bagging_fraction': 0.8,\n",
    "          'bagging_freq': 100,\n",
    "          'feature_fraction': 0.8,\n",
    "          'lambda_l2': 0.05,\n",
    "          'min_gain_to_split': 0.001,\n",
    "          'max_bin': 255,\n",
    "          'early_stopping_rounds': 100,\n",
    "          'data_random_seed': 42,\n",
    "          'verbosity': -1,\n",
    "          'verbose_eval': 100\n",
    "         }\n",
    "\n",
    "lgb_pred_probs, lgb_preds, lgb_qwk_scores, lgb_confusion_matrices, feature_importances = cv_model(X_train_reduced,\n",
    "                                                                                                  y_train, \n",
    "                                                                                                  5, \n",
    "                                                                                                  params)"
   ]
  },
  {
   "cell_type": "markdown",
   "metadata": {},
   "source": [
    "### Model analysis and discussion"
   ]
  },
  {
   "cell_type": "markdown",
   "metadata": {},
   "source": [
    "At least insofar as concerns the Kaggle competition public leaderboard, the initial models perform somewhat poorly. The multi-logloss results for each fold suggest the model is overfitting, but attempts to resolve by e.g. decreasing the `num_leaves` and `max_bin` hyperparameters did not consistently improve the QWK score within folds, nor the mean QWK score. Reducing the number of features also had minimal impact on the QWK score."
   ]
  },
  {
   "cell_type": "code",
   "execution_count": 108,
   "metadata": {},
   "outputs": [
    {
     "name": "stdout",
     "output_type": "stream",
     "text": [
      "Actual distribution of categories: Counter({4: 4197, 2: 4037, 3: 3259, 1: 3090, 0: 410})\n",
      "Predicted distribution of categories: Counter({4.0: 6031, 2.0: 4166, 1.0: 2742, 3.0: 2022, 0.0: 32})\n"
     ]
    }
   ],
   "source": [
    "print(f\"Actual distribution of categories: {Counter(y_train)}\")\n",
    "print(f\"Predicted distribution of categories: {Counter(np.round(np.mean(lgb_preds, axis=1)))}\")\n",
    "# For some reason they're are out of order. I have no idea why..."
   ]
  },
  {
   "cell_type": "markdown",
   "metadata": {},
   "source": [
    "Regardless of hyperparameter values, the models made similar classification errors. In terms of classification label distributions (above), the final model still struggles to accurately predict 0s and has a clear tendency to overpredict 4s. The former is likely caused by a relative lack of training examples and few strong predictors of class 0 in the feature set as discussed in the EDA notebook.\n",
    "\n",
    "Below is the confusion matrix for all folds in the final model."
   ]
  },
  {
   "cell_type": "code",
   "execution_count": 105,
   "metadata": {
    "scrolled": false
   },
   "outputs": [
    {
     "data": {
      "image/png": "[encoded data removed]",
      "text/plain": [
       "<Figure size 576x432 with 2 Axes>"
      ]
     },
     "metadata": {
      "needs_background": "light"
     },
     "output_type": "display_data"
    }
   ],
   "source": [
    "plot_average_confmatrix(lgb_confusion_matrices)"
   ]
  },
  {
   "cell_type": "markdown",
   "metadata": {},
   "source": [
    "There are some interesting patterns here (the exact values will vary a little):\n",
    "- Only 5.6% of actual 0s are accurately classified. Of those that are misclassified, 33% are wrongly considered category 4, with the almost all the rest split evenly between 1 and 2.\n",
    "- 37% of 1s are correctly classified. However, 30% are misclassified as 2s and a further 26% as 4s.\n",
    "- 28% of 3s are correct, with 30% wrong classified as 2s and 29% as 4s.\n",
    "\n",
    "This suggests that some form of redistributing the classifications might improve the overall accuracy (and, more importantly, QWK score) of the model. Luckily, some Kaggle users with more knowledge/experience than me have already gone down this route. What follows in the next section is an implementation of what appears to currently be the most popular solution."
   ]
  },
  {
   "cell_type": "markdown",
   "metadata": {},
   "source": [
    "## LightGBM: regression model"
   ]
  },
  {
   "cell_type": "markdown",
   "metadata": {},
   "source": [
    "In the previous section I fitted a LightGBM classification model to the training data. This did not perform as well as hoped, seemingly regardless of hyperparameter values, with an average overall QWK score of between about 0.399 and 0.400."
   ]
  }
 ],
 "metadata": {
  "kernelspec": {
   "display_name": "Python 3",
   "language": "python",
   "name": "python3"
  },
  "language_info": {
   "codemirror_mode": {
    "name": "ipython",
    "version": 3
   },
   "file_extension": ".py",
   "mimetype": "text/x-python",
   "name": "python",
   "nbconvert_exporter": "python",
   "pygments_lexer": "ipython3",
   "version": "3.6.5"
  }
 },
 "nbformat": 4,
 "nbformat_minor": 2
}
