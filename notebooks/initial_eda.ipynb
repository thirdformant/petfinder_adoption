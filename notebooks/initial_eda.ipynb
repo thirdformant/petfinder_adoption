{
 "cells": [
  {
   "cell_type": "markdown",
   "metadata": {},
   "source": [
    "# PetFinder.my Adoption Prediction: an initial look at the data"
   ]
  },
  {
   "cell_type": "markdown",
   "metadata": {},
   "source": [
    "## Introduction"
   ]
  },
  {
   "cell_type": "markdown",
   "metadata": {},
   "source": [
    "This notebook is the first part of the analysis of the data for the [PetFinder.my Adoption Prediction competition](https://www.kaggle.com/c/petfinder-adoption-prediction) on Kaggle. I only look here at the `train.csv` and `test.csv` datasets; those relating to images and descriptions (e.g. those in `train_sentiment` and `train_metadata`) are considered in the feature engineering notebook (`feature_engineering.ipynb`)."
   ]
  },
  {
   "cell_type": "markdown",
   "metadata": {},
   "source": [
    "## Libraries"
   ]
  },
  {
   "cell_type": "code",
   "execution_count": 1,
   "metadata": {},
   "outputs": [],
   "source": [
    "import os\n",
    "\n",
    "import numpy as np\n",
    "import pandas as pd\n",
    "\n",
    "import matplotlib.pyplot as plt\n",
    "import seaborn as sns"
   ]
  },
  {
   "cell_type": "markdown",
   "metadata": {},
   "source": [
    "## Data loading"
   ]
  },
  {
   "cell_type": "code",
   "execution_count": 2,
   "metadata": {},
   "outputs": [],
   "source": [
    "DATA_PATH = os.path.join(os.pardir, 'data', 'raw')"
   ]
  },
  {
   "cell_type": "code",
   "execution_count": 3,
   "metadata": {},
   "outputs": [
    {
     "name": "stdout",
     "output_type": "stream",
     "text": [
      "breed_labels.csv       test.csv\t\t   train.csv\r\n",
      "color_labels.csv       test_images.zip\t   train_images.zip\r\n",
      "sample_submission.csv  test_metadata.zip   train_metadata.zip\r\n",
      "sentiment\t       test_sentiment.zip  train_sentiment.zip\r\n",
      "state_labels.csv       test.zip\t\t   train.zip\r\n"
     ]
    }
   ],
   "source": [
    "!ls {DATA_PATH}"
   ]
  },
  {
   "cell_type": "code",
   "execution_count": 3,
   "metadata": {},
   "outputs": [],
   "source": [
    "all_train = pd.read_csv(os.path.join(DATA_PATH, 'train.csv'))\n",
    "all_test = pd.read_csv(os.path.join(DATA_PATH, 'test.csv'))"
   ]
  },
  {
   "cell_type": "code",
   "execution_count": 51,
   "metadata": {},
   "outputs": [],
   "source": [
    "states = pd.read_csv(os.path.join(DATA_PATH, 'state_labels.csv'))"
   ]
  },
  {
   "cell_type": "markdown",
   "metadata": {},
   "source": [
    "## Function definitions"
   ]
  },
  {
   "cell_type": "markdown",
   "metadata": {},
   "source": [
    "Useful functions for data visualisation, all grouped together here for ease of finding later."
   ]
  },
  {
   "cell_type": "code",
   "execution_count": 4,
   "metadata": {},
   "outputs": [],
   "source": [
    "def display_all_vars(df):\n",
    "    \"\"\"\n",
    "    By default, the display() function for a pandas dataframe only shows a limited number of the total columns of the df.\n",
    "    This function provides a wrapper that temporarily changes that behaviour\n",
    "    \"\"\"\n",
    "    with pd.option_context(\"display.max_columns\", 1000):\n",
    "        display(df)"
   ]
  },
  {
   "cell_type": "code",
   "execution_count": 5,
   "metadata": {},
   "outputs": [],
   "source": [
    "def train_test_catplot(var_name:str):\n",
    "    \"\"\"\n",
    "    Plots sns.catplot() for a variable in both the training and test datasets\n",
    "    \"\"\"\n",
    "    _, ax = plt.subplots(1, 2, figsize=(12, 5))\n",
    "    g = sns.catplot(x=var_name, data=all_train, kind='count', ax=ax[0])\n",
    "    ax[0].set_title('Train')\n",
    "    plt.close(g.fig)\n",
    "    g = sns.catplot(x=var_name, data=all_test, kind='count', ax=ax[1])\n",
    "    ax[1].set_title('Test')\n",
    "    plt.close(g.fig)\n",
    "    plt.show()"
   ]
  },
  {
   "cell_type": "code",
   "execution_count": 6,
   "metadata": {},
   "outputs": [],
   "source": [
    "def speed_catplot(var_name:str, title1:str, title2:str):\n",
    "    \"\"\"\n",
    "    Plots both within and between-variable sns.catplot() for AdoptionSpeed\n",
    "    \"\"\"\n",
    "    _, ax = plt.subplots(1, 2, figsize=(12, 5))\n",
    "    g = sns.catplot(x=var_name, hue='AdoptionSpeed', data=all_train, kind='count', ax=ax[0])\n",
    "    ax[0].set_title(title1)\n",
    "    plt.close(g.fig)\n",
    "    g = sns.catplot(x='AdoptionSpeed', hue=var_name, data=all_train, kind='count', ax=ax[1])\n",
    "    ax[1].set_title(title2)\n",
    "    plt.close(g.fig)\n",
    "    plt.show()"
   ]
  },
  {
   "cell_type": "code",
   "execution_count": 10,
   "metadata": {},
   "outputs": [],
   "source": [
    "def train_test_distplot(var_name:str):\n",
    "    \"\"\"\n",
    "    Plots sns.distplot() for a continuous variable in both the training and test datasets\n",
    "    \"\"\"\n",
    "    _, ax = plt.subplots(1, 2, figsize=(12, 5))\n",
    "    sns.distplot(all_train[var_name], kde=False, ax=ax[0])\n",
    "    ax[0].set_title('Train')\n",
    "    sns.distplot(all_test[var_name], kde=False, ax=ax[1])\n",
    "    ax[1].set_title('Test')\n",
    "    plt.show()"
   ]
  },
  {
   "cell_type": "code",
   "execution_count": 19,
   "metadata": {},
   "outputs": [],
   "source": [
    "def speed_stripplot(var_name: str):\n",
    "    plt.figure(figsize=(12, 5))\n",
    "    sns.stripplot(x='AdoptionSpeed', y=var_name, data=all_train)\n",
    "    plt.title(f'{var_name} by adoption speed')\n",
    "    plt.show()"
   ]
  },
  {
   "cell_type": "markdown",
   "metadata": {},
   "source": [
    "## Data summaries"
   ]
  },
  {
   "cell_type": "markdown",
   "metadata": {},
   "source": [
    "### Data frame sizes"
   ]
  },
  {
   "cell_type": "code",
   "execution_count": 10,
   "metadata": {},
   "outputs": [
    {
     "name": "stdout",
     "output_type": "stream",
     "text": [
      "The training data contains 14993 observations and 24 features\n",
      "The testing data contains 3948 observations and 23 features\n"
     ]
    }
   ],
   "source": [
    "print(f\"The training data contains {all_train.shape[0]} observations and {all_train.shape[1]} features\")\n",
    "print(f\"The testing data contains {all_test.shape[0]} observations and {all_test.shape[1]} features\")"
   ]
  },
  {
   "cell_type": "markdown",
   "metadata": {},
   "source": [
    "The missing feature in the testing data is the prediction target `AdoptionSpeed`."
   ]
  },
  {
   "cell_type": "markdown",
   "metadata": {},
   "source": [
    "### Data frame heads"
   ]
  },
  {
   "cell_type": "markdown",
   "metadata": {},
   "source": [
    "The values of the top 5 rows of both the training and testing datasets. All variables are included."
   ]
  },
  {
   "cell_type": "code",
   "execution_count": 11,
   "metadata": {
    "scrolled": true
   },
   "outputs": [
    {
     "data": {
      "text/html": [
       "<div>\n",
       "<style scoped>\n",
       "    .dataframe tbody tr th:only-of-type {\n",
       "        vertical-align: middle;\n",
       "    }\n",
       "\n",
       "    .dataframe tbody tr th {\n",
       "        vertical-align: top;\n",
       "    }\n",
       "\n",
       "    .dataframe thead th {\n",
       "        text-align: right;\n",
       "    }\n",
       "</style>\n",
       "<table border=\"1\" class=\"dataframe\">\n",
       "  <thead>\n",
       "    <tr style=\"text-align: right;\">\n",
       "      <th></th>\n",
       "      <th>0</th>\n",
       "      <th>1</th>\n",
       "      <th>2</th>\n",
       "      <th>3</th>\n",
       "      <th>4</th>\n",
       "    </tr>\n",
       "  </thead>\n",
       "  <tbody>\n",
       "    <tr>\n",
       "      <th>Type</th>\n",
       "      <td>2</td>\n",
       "      <td>2</td>\n",
       "      <td>1</td>\n",
       "      <td>1</td>\n",
       "      <td>1</td>\n",
       "    </tr>\n",
       "    <tr>\n",
       "      <th>Name</th>\n",
       "      <td>Nibble</td>\n",
       "      <td>No Name Yet</td>\n",
       "      <td>Brisco</td>\n",
       "      <td>Miko</td>\n",
       "      <td>Hunter</td>\n",
       "    </tr>\n",
       "    <tr>\n",
       "      <th>Age</th>\n",
       "      <td>3</td>\n",
       "      <td>1</td>\n",
       "      <td>1</td>\n",
       "      <td>4</td>\n",
       "      <td>1</td>\n",
       "    </tr>\n",
       "    <tr>\n",
       "      <th>Breed1</th>\n",
       "      <td>299</td>\n",
       "      <td>265</td>\n",
       "      <td>307</td>\n",
       "      <td>307</td>\n",
       "      <td>307</td>\n",
       "    </tr>\n",
       "    <tr>\n",
       "      <th>Breed2</th>\n",
       "      <td>0</td>\n",
       "      <td>0</td>\n",
       "      <td>0</td>\n",
       "      <td>0</td>\n",
       "      <td>0</td>\n",
       "    </tr>\n",
       "    <tr>\n",
       "      <th>Gender</th>\n",
       "      <td>1</td>\n",
       "      <td>1</td>\n",
       "      <td>1</td>\n",
       "      <td>2</td>\n",
       "      <td>1</td>\n",
       "    </tr>\n",
       "    <tr>\n",
       "      <th>Color1</th>\n",
       "      <td>1</td>\n",
       "      <td>1</td>\n",
       "      <td>2</td>\n",
       "      <td>1</td>\n",
       "      <td>1</td>\n",
       "    </tr>\n",
       "    <tr>\n",
       "      <th>Color2</th>\n",
       "      <td>7</td>\n",
       "      <td>2</td>\n",
       "      <td>7</td>\n",
       "      <td>2</td>\n",
       "      <td>0</td>\n",
       "    </tr>\n",
       "    <tr>\n",
       "      <th>Color3</th>\n",
       "      <td>0</td>\n",
       "      <td>0</td>\n",
       "      <td>0</td>\n",
       "      <td>0</td>\n",
       "      <td>0</td>\n",
       "    </tr>\n",
       "    <tr>\n",
       "      <th>MaturitySize</th>\n",
       "      <td>1</td>\n",
       "      <td>2</td>\n",
       "      <td>2</td>\n",
       "      <td>2</td>\n",
       "      <td>2</td>\n",
       "    </tr>\n",
       "    <tr>\n",
       "      <th>FurLength</th>\n",
       "      <td>1</td>\n",
       "      <td>2</td>\n",
       "      <td>2</td>\n",
       "      <td>1</td>\n",
       "      <td>1</td>\n",
       "    </tr>\n",
       "    <tr>\n",
       "      <th>Vaccinated</th>\n",
       "      <td>2</td>\n",
       "      <td>3</td>\n",
       "      <td>1</td>\n",
       "      <td>1</td>\n",
       "      <td>2</td>\n",
       "    </tr>\n",
       "    <tr>\n",
       "      <th>Dewormed</th>\n",
       "      <td>2</td>\n",
       "      <td>3</td>\n",
       "      <td>1</td>\n",
       "      <td>1</td>\n",
       "      <td>2</td>\n",
       "    </tr>\n",
       "    <tr>\n",
       "      <th>Sterilized</th>\n",
       "      <td>2</td>\n",
       "      <td>3</td>\n",
       "      <td>2</td>\n",
       "      <td>2</td>\n",
       "      <td>2</td>\n",
       "    </tr>\n",
       "    <tr>\n",
       "      <th>Health</th>\n",
       "      <td>1</td>\n",
       "      <td>1</td>\n",
       "      <td>1</td>\n",
       "      <td>1</td>\n",
       "      <td>1</td>\n",
       "    </tr>\n",
       "    <tr>\n",
       "      <th>Quantity</th>\n",
       "      <td>1</td>\n",
       "      <td>1</td>\n",
       "      <td>1</td>\n",
       "      <td>1</td>\n",
       "      <td>1</td>\n",
       "    </tr>\n",
       "    <tr>\n",
       "      <th>Fee</th>\n",
       "      <td>100</td>\n",
       "      <td>0</td>\n",
       "      <td>0</td>\n",
       "      <td>150</td>\n",
       "      <td>0</td>\n",
       "    </tr>\n",
       "    <tr>\n",
       "      <th>State</th>\n",
       "      <td>41326</td>\n",
       "      <td>41401</td>\n",
       "      <td>41326</td>\n",
       "      <td>41401</td>\n",
       "      <td>41326</td>\n",
       "    </tr>\n",
       "    <tr>\n",
       "      <th>RescuerID</th>\n",
       "      <td>8480853f516546f6cf33aa88cd76c379</td>\n",
       "      <td>3082c7125d8fb66f7dd4bff4192c8b14</td>\n",
       "      <td>fa90fa5b1ee11c86938398b60abc32cb</td>\n",
       "      <td>9238e4f44c71a75282e62f7136c6b240</td>\n",
       "      <td>95481e953f8aed9ec3d16fc4509537e8</td>\n",
       "    </tr>\n",
       "    <tr>\n",
       "      <th>VideoAmt</th>\n",
       "      <td>0</td>\n",
       "      <td>0</td>\n",
       "      <td>0</td>\n",
       "      <td>0</td>\n",
       "      <td>0</td>\n",
       "    </tr>\n",
       "    <tr>\n",
       "      <th>Description</th>\n",
       "      <td>Nibble is a 3+ month old ball of cuteness. He ...</td>\n",
       "      <td>I just found it alone yesterday near my apartm...</td>\n",
       "      <td>Their pregnant mother was dumped by her irresp...</td>\n",
       "      <td>Good guard dog, very alert, active, obedience ...</td>\n",
       "      <td>This handsome yet cute boy is up for adoption....</td>\n",
       "    </tr>\n",
       "    <tr>\n",
       "      <th>PetID</th>\n",
       "      <td>86e1089a3</td>\n",
       "      <td>6296e909a</td>\n",
       "      <td>3422e4906</td>\n",
       "      <td>5842f1ff5</td>\n",
       "      <td>850a43f90</td>\n",
       "    </tr>\n",
       "    <tr>\n",
       "      <th>PhotoAmt</th>\n",
       "      <td>1</td>\n",
       "      <td>2</td>\n",
       "      <td>7</td>\n",
       "      <td>8</td>\n",
       "      <td>3</td>\n",
       "    </tr>\n",
       "    <tr>\n",
       "      <th>AdoptionSpeed</th>\n",
       "      <td>2</td>\n",
       "      <td>0</td>\n",
       "      <td>3</td>\n",
       "      <td>2</td>\n",
       "      <td>2</td>\n",
       "    </tr>\n",
       "  </tbody>\n",
       "</table>\n",
       "</div>"
      ],
      "text/plain": [
       "                                                               0  \\\n",
       "Type                                                           2   \n",
       "Name                                                      Nibble   \n",
       "Age                                                            3   \n",
       "Breed1                                                       299   \n",
       "Breed2                                                         0   \n",
       "Gender                                                         1   \n",
       "Color1                                                         1   \n",
       "Color2                                                         7   \n",
       "Color3                                                         0   \n",
       "MaturitySize                                                   1   \n",
       "FurLength                                                      1   \n",
       "Vaccinated                                                     2   \n",
       "Dewormed                                                       2   \n",
       "Sterilized                                                     2   \n",
       "Health                                                         1   \n",
       "Quantity                                                       1   \n",
       "Fee                                                          100   \n",
       "State                                                      41326   \n",
       "RescuerID                       8480853f516546f6cf33aa88cd76c379   \n",
       "VideoAmt                                                       0   \n",
       "Description    Nibble is a 3+ month old ball of cuteness. He ...   \n",
       "PetID                                                  86e1089a3   \n",
       "PhotoAmt                                                       1   \n",
       "AdoptionSpeed                                                  2   \n",
       "\n",
       "                                                               1  \\\n",
       "Type                                                           2   \n",
       "Name                                                 No Name Yet   \n",
       "Age                                                            1   \n",
       "Breed1                                                       265   \n",
       "Breed2                                                         0   \n",
       "Gender                                                         1   \n",
       "Color1                                                         1   \n",
       "Color2                                                         2   \n",
       "Color3                                                         0   \n",
       "MaturitySize                                                   2   \n",
       "FurLength                                                      2   \n",
       "Vaccinated                                                     3   \n",
       "Dewormed                                                       3   \n",
       "Sterilized                                                     3   \n",
       "Health                                                         1   \n",
       "Quantity                                                       1   \n",
       "Fee                                                            0   \n",
       "State                                                      41401   \n",
       "RescuerID                       3082c7125d8fb66f7dd4bff4192c8b14   \n",
       "VideoAmt                                                       0   \n",
       "Description    I just found it alone yesterday near my apartm...   \n",
       "PetID                                                  6296e909a   \n",
       "PhotoAmt                                                       2   \n",
       "AdoptionSpeed                                                  0   \n",
       "\n",
       "                                                               2  \\\n",
       "Type                                                           1   \n",
       "Name                                                      Brisco   \n",
       "Age                                                            1   \n",
       "Breed1                                                       307   \n",
       "Breed2                                                         0   \n",
       "Gender                                                         1   \n",
       "Color1                                                         2   \n",
       "Color2                                                         7   \n",
       "Color3                                                         0   \n",
       "MaturitySize                                                   2   \n",
       "FurLength                                                      2   \n",
       "Vaccinated                                                     1   \n",
       "Dewormed                                                       1   \n",
       "Sterilized                                                     2   \n",
       "Health                                                         1   \n",
       "Quantity                                                       1   \n",
       "Fee                                                            0   \n",
       "State                                                      41326   \n",
       "RescuerID                       fa90fa5b1ee11c86938398b60abc32cb   \n",
       "VideoAmt                                                       0   \n",
       "Description    Their pregnant mother was dumped by her irresp...   \n",
       "PetID                                                  3422e4906   \n",
       "PhotoAmt                                                       7   \n",
       "AdoptionSpeed                                                  3   \n",
       "\n",
       "                                                               3  \\\n",
       "Type                                                           1   \n",
       "Name                                                        Miko   \n",
       "Age                                                            4   \n",
       "Breed1                                                       307   \n",
       "Breed2                                                         0   \n",
       "Gender                                                         2   \n",
       "Color1                                                         1   \n",
       "Color2                                                         2   \n",
       "Color3                                                         0   \n",
       "MaturitySize                                                   2   \n",
       "FurLength                                                      1   \n",
       "Vaccinated                                                     1   \n",
       "Dewormed                                                       1   \n",
       "Sterilized                                                     2   \n",
       "Health                                                         1   \n",
       "Quantity                                                       1   \n",
       "Fee                                                          150   \n",
       "State                                                      41401   \n",
       "RescuerID                       9238e4f44c71a75282e62f7136c6b240   \n",
       "VideoAmt                                                       0   \n",
       "Description    Good guard dog, very alert, active, obedience ...   \n",
       "PetID                                                  5842f1ff5   \n",
       "PhotoAmt                                                       8   \n",
       "AdoptionSpeed                                                  2   \n",
       "\n",
       "                                                               4  \n",
       "Type                                                           1  \n",
       "Name                                                      Hunter  \n",
       "Age                                                            1  \n",
       "Breed1                                                       307  \n",
       "Breed2                                                         0  \n",
       "Gender                                                         1  \n",
       "Color1                                                         1  \n",
       "Color2                                                         0  \n",
       "Color3                                                         0  \n",
       "MaturitySize                                                   2  \n",
       "FurLength                                                      1  \n",
       "Vaccinated                                                     2  \n",
       "Dewormed                                                       2  \n",
       "Sterilized                                                     2  \n",
       "Health                                                         1  \n",
       "Quantity                                                       1  \n",
       "Fee                                                            0  \n",
       "State                                                      41326  \n",
       "RescuerID                       95481e953f8aed9ec3d16fc4509537e8  \n",
       "VideoAmt                                                       0  \n",
       "Description    This handsome yet cute boy is up for adoption....  \n",
       "PetID                                                  850a43f90  \n",
       "PhotoAmt                                                       3  \n",
       "AdoptionSpeed                                                  2  "
      ]
     },
     "metadata": {},
     "output_type": "display_data"
    }
   ],
   "source": [
    "display_all_vars(all_train.head().T)"
   ]
  },
  {
   "cell_type": "code",
   "execution_count": 14,
   "metadata": {
    "scrolled": true
   },
   "outputs": [
    {
     "data": {
      "text/html": [
       "<div>\n",
       "<style scoped>\n",
       "    .dataframe tbody tr th:only-of-type {\n",
       "        vertical-align: middle;\n",
       "    }\n",
       "\n",
       "    .dataframe tbody tr th {\n",
       "        vertical-align: top;\n",
       "    }\n",
       "\n",
       "    .dataframe thead th {\n",
       "        text-align: right;\n",
       "    }\n",
       "</style>\n",
       "<table border=\"1\" class=\"dataframe\">\n",
       "  <thead>\n",
       "    <tr style=\"text-align: right;\">\n",
       "      <th></th>\n",
       "      <th>0</th>\n",
       "      <th>1</th>\n",
       "      <th>2</th>\n",
       "      <th>3</th>\n",
       "      <th>4</th>\n",
       "    </tr>\n",
       "  </thead>\n",
       "  <tbody>\n",
       "    <tr>\n",
       "      <th>Type</th>\n",
       "      <td>1</td>\n",
       "      <td>2</td>\n",
       "      <td>2</td>\n",
       "      <td>2</td>\n",
       "      <td>1</td>\n",
       "    </tr>\n",
       "    <tr>\n",
       "      <th>Name</th>\n",
       "      <td>Puppy</td>\n",
       "      <td>London</td>\n",
       "      <td>Snowball</td>\n",
       "      <td>Malibu</td>\n",
       "      <td>Lala Girl</td>\n",
       "    </tr>\n",
       "    <tr>\n",
       "      <th>Age</th>\n",
       "      <td>2</td>\n",
       "      <td>24</td>\n",
       "      <td>20</td>\n",
       "      <td>5</td>\n",
       "      <td>6</td>\n",
       "    </tr>\n",
       "    <tr>\n",
       "      <th>Breed1</th>\n",
       "      <td>307</td>\n",
       "      <td>266</td>\n",
       "      <td>266</td>\n",
       "      <td>266</td>\n",
       "      <td>307</td>\n",
       "    </tr>\n",
       "    <tr>\n",
       "      <th>Breed2</th>\n",
       "      <td>0</td>\n",
       "      <td>0</td>\n",
       "      <td>0</td>\n",
       "      <td>252</td>\n",
       "      <td>0</td>\n",
       "    </tr>\n",
       "    <tr>\n",
       "      <th>Gender</th>\n",
       "      <td>1</td>\n",
       "      <td>1</td>\n",
       "      <td>2</td>\n",
       "      <td>2</td>\n",
       "      <td>2</td>\n",
       "    </tr>\n",
       "    <tr>\n",
       "      <th>Color1</th>\n",
       "      <td>1</td>\n",
       "      <td>2</td>\n",
       "      <td>7</td>\n",
       "      <td>1</td>\n",
       "      <td>1</td>\n",
       "    </tr>\n",
       "    <tr>\n",
       "      <th>Color2</th>\n",
       "      <td>0</td>\n",
       "      <td>7</td>\n",
       "      <td>0</td>\n",
       "      <td>6</td>\n",
       "      <td>2</td>\n",
       "    </tr>\n",
       "    <tr>\n",
       "      <th>Color3</th>\n",
       "      <td>0</td>\n",
       "      <td>0</td>\n",
       "      <td>0</td>\n",
       "      <td>7</td>\n",
       "      <td>7</td>\n",
       "    </tr>\n",
       "    <tr>\n",
       "      <th>MaturitySize</th>\n",
       "      <td>2</td>\n",
       "      <td>2</td>\n",
       "      <td>2</td>\n",
       "      <td>2</td>\n",
       "      <td>2</td>\n",
       "    </tr>\n",
       "    <tr>\n",
       "      <th>FurLength</th>\n",
       "      <td>2</td>\n",
       "      <td>1</td>\n",
       "      <td>1</td>\n",
       "      <td>1</td>\n",
       "      <td>1</td>\n",
       "    </tr>\n",
       "    <tr>\n",
       "      <th>Vaccinated</th>\n",
       "      <td>2</td>\n",
       "      <td>1</td>\n",
       "      <td>1</td>\n",
       "      <td>1</td>\n",
       "      <td>1</td>\n",
       "    </tr>\n",
       "    <tr>\n",
       "      <th>Dewormed</th>\n",
       "      <td>2</td>\n",
       "      <td>1</td>\n",
       "      <td>1</td>\n",
       "      <td>1</td>\n",
       "      <td>1</td>\n",
       "    </tr>\n",
       "    <tr>\n",
       "      <th>Sterilized</th>\n",
       "      <td>2</td>\n",
       "      <td>1</td>\n",
       "      <td>1</td>\n",
       "      <td>1</td>\n",
       "      <td>1</td>\n",
       "    </tr>\n",
       "    <tr>\n",
       "      <th>Health</th>\n",
       "      <td>1</td>\n",
       "      <td>1</td>\n",
       "      <td>1</td>\n",
       "      <td>1</td>\n",
       "      <td>1</td>\n",
       "    </tr>\n",
       "    <tr>\n",
       "      <th>Quantity</th>\n",
       "      <td>1</td>\n",
       "      <td>1</td>\n",
       "      <td>1</td>\n",
       "      <td>1</td>\n",
       "      <td>1</td>\n",
       "    </tr>\n",
       "    <tr>\n",
       "      <th>Fee</th>\n",
       "      <td>150</td>\n",
       "      <td>0</td>\n",
       "      <td>150</td>\n",
       "      <td>100</td>\n",
       "      <td>150</td>\n",
       "    </tr>\n",
       "    <tr>\n",
       "      <th>State</th>\n",
       "      <td>41326</td>\n",
       "      <td>41326</td>\n",
       "      <td>41326</td>\n",
       "      <td>41326</td>\n",
       "      <td>41326</td>\n",
       "    </tr>\n",
       "    <tr>\n",
       "      <th>RescuerID</th>\n",
       "      <td>4475f31553f0170229455e3c5645644f</td>\n",
       "      <td>4475f31553f0170229455e3c5645644f</td>\n",
       "      <td>4475f31553f0170229455e3c5645644f</td>\n",
       "      <td>4475f31553f0170229455e3c5645644f</td>\n",
       "      <td>4475f31553f0170229455e3c5645644f</td>\n",
       "    </tr>\n",
       "    <tr>\n",
       "      <th>VideoAmt</th>\n",
       "      <td>0</td>\n",
       "      <td>0</td>\n",
       "      <td>0</td>\n",
       "      <td>0</td>\n",
       "      <td>0</td>\n",
       "    </tr>\n",
       "    <tr>\n",
       "      <th>Description</th>\n",
       "      <td>Puppy is calm for a young dog, but he becomes ...</td>\n",
       "      <td>Urgently seeking adoption. Please contact for ...</td>\n",
       "      <td>Snowball... doesn't look so good (she is healt...</td>\n",
       "      <td>Malibu: Female, Local Mix, 4-5 months, vaccina...</td>\n",
       "      <td>LALA! That's my name. I'm a 6 month old girl d...</td>\n",
       "    </tr>\n",
       "    <tr>\n",
       "      <th>PetID</th>\n",
       "      <td>378fcc4fc</td>\n",
       "      <td>73c10e136</td>\n",
       "      <td>72000c4c5</td>\n",
       "      <td>e147a4b9f</td>\n",
       "      <td>43fbba852</td>\n",
       "    </tr>\n",
       "    <tr>\n",
       "      <th>PhotoAmt</th>\n",
       "      <td>3</td>\n",
       "      <td>1</td>\n",
       "      <td>1</td>\n",
       "      <td>1</td>\n",
       "      <td>1</td>\n",
       "    </tr>\n",
       "  </tbody>\n",
       "</table>\n",
       "</div>"
      ],
      "text/plain": [
       "                                                              0  \\\n",
       "Type                                                          1   \n",
       "Name                                                      Puppy   \n",
       "Age                                                           2   \n",
       "Breed1                                                      307   \n",
       "Breed2                                                        0   \n",
       "Gender                                                        1   \n",
       "Color1                                                        1   \n",
       "Color2                                                        0   \n",
       "Color3                                                        0   \n",
       "MaturitySize                                                  2   \n",
       "FurLength                                                     2   \n",
       "Vaccinated                                                    2   \n",
       "Dewormed                                                      2   \n",
       "Sterilized                                                    2   \n",
       "Health                                                        1   \n",
       "Quantity                                                      1   \n",
       "Fee                                                         150   \n",
       "State                                                     41326   \n",
       "RescuerID                      4475f31553f0170229455e3c5645644f   \n",
       "VideoAmt                                                      0   \n",
       "Description   Puppy is calm for a young dog, but he becomes ...   \n",
       "PetID                                                 378fcc4fc   \n",
       "PhotoAmt                                                      3   \n",
       "\n",
       "                                                              1  \\\n",
       "Type                                                          2   \n",
       "Name                                                     London   \n",
       "Age                                                          24   \n",
       "Breed1                                                      266   \n",
       "Breed2                                                        0   \n",
       "Gender                                                        1   \n",
       "Color1                                                        2   \n",
       "Color2                                                        7   \n",
       "Color3                                                        0   \n",
       "MaturitySize                                                  2   \n",
       "FurLength                                                     1   \n",
       "Vaccinated                                                    1   \n",
       "Dewormed                                                      1   \n",
       "Sterilized                                                    1   \n",
       "Health                                                        1   \n",
       "Quantity                                                      1   \n",
       "Fee                                                           0   \n",
       "State                                                     41326   \n",
       "RescuerID                      4475f31553f0170229455e3c5645644f   \n",
       "VideoAmt                                                      0   \n",
       "Description   Urgently seeking adoption. Please contact for ...   \n",
       "PetID                                                 73c10e136   \n",
       "PhotoAmt                                                      1   \n",
       "\n",
       "                                                              2  \\\n",
       "Type                                                          2   \n",
       "Name                                                   Snowball   \n",
       "Age                                                          20   \n",
       "Breed1                                                      266   \n",
       "Breed2                                                        0   \n",
       "Gender                                                        2   \n",
       "Color1                                                        7   \n",
       "Color2                                                        0   \n",
       "Color3                                                        0   \n",
       "MaturitySize                                                  2   \n",
       "FurLength                                                     1   \n",
       "Vaccinated                                                    1   \n",
       "Dewormed                                                      1   \n",
       "Sterilized                                                    1   \n",
       "Health                                                        1   \n",
       "Quantity                                                      1   \n",
       "Fee                                                         150   \n",
       "State                                                     41326   \n",
       "RescuerID                      4475f31553f0170229455e3c5645644f   \n",
       "VideoAmt                                                      0   \n",
       "Description   Snowball... doesn't look so good (she is healt...   \n",
       "PetID                                                 72000c4c5   \n",
       "PhotoAmt                                                      1   \n",
       "\n",
       "                                                              3  \\\n",
       "Type                                                          2   \n",
       "Name                                                     Malibu   \n",
       "Age                                                           5   \n",
       "Breed1                                                      266   \n",
       "Breed2                                                      252   \n",
       "Gender                                                        2   \n",
       "Color1                                                        1   \n",
       "Color2                                                        6   \n",
       "Color3                                                        7   \n",
       "MaturitySize                                                  2   \n",
       "FurLength                                                     1   \n",
       "Vaccinated                                                    1   \n",
       "Dewormed                                                      1   \n",
       "Sterilized                                                    1   \n",
       "Health                                                        1   \n",
       "Quantity                                                      1   \n",
       "Fee                                                         100   \n",
       "State                                                     41326   \n",
       "RescuerID                      4475f31553f0170229455e3c5645644f   \n",
       "VideoAmt                                                      0   \n",
       "Description   Malibu: Female, Local Mix, 4-5 months, vaccina...   \n",
       "PetID                                                 e147a4b9f   \n",
       "PhotoAmt                                                      1   \n",
       "\n",
       "                                                              4  \n",
       "Type                                                          1  \n",
       "Name                                                  Lala Girl  \n",
       "Age                                                           6  \n",
       "Breed1                                                      307  \n",
       "Breed2                                                        0  \n",
       "Gender                                                        2  \n",
       "Color1                                                        1  \n",
       "Color2                                                        2  \n",
       "Color3                                                        7  \n",
       "MaturitySize                                                  2  \n",
       "FurLength                                                     1  \n",
       "Vaccinated                                                    1  \n",
       "Dewormed                                                      1  \n",
       "Sterilized                                                    1  \n",
       "Health                                                        1  \n",
       "Quantity                                                      1  \n",
       "Fee                                                         150  \n",
       "State                                                     41326  \n",
       "RescuerID                      4475f31553f0170229455e3c5645644f  \n",
       "VideoAmt                                                      0  \n",
       "Description   LALA! That's my name. I'm a 6 month old girl d...  \n",
       "PetID                                                 43fbba852  \n",
       "PhotoAmt                                                      1  "
      ]
     },
     "metadata": {},
     "output_type": "display_data"
    }
   ],
   "source": [
    "display_all_vars(all_test.head().T)"
   ]
  },
  {
   "cell_type": "markdown",
   "metadata": {},
   "source": [
    "### Descriptive statistics"
   ]
  },
  {
   "cell_type": "markdown",
   "metadata": {},
   "source": [
    "Basic descriptive statistics for each feature in the training and testing data."
   ]
  },
  {
   "cell_type": "code",
   "execution_count": 16,
   "metadata": {
    "scrolled": true
   },
   "outputs": [
    {
     "data": {
      "text/html": [
       "<div>\n",
       "<style scoped>\n",
       "    .dataframe tbody tr th:only-of-type {\n",
       "        vertical-align: middle;\n",
       "    }\n",
       "\n",
       "    .dataframe tbody tr th {\n",
       "        vertical-align: top;\n",
       "    }\n",
       "\n",
       "    .dataframe thead th {\n",
       "        text-align: right;\n",
       "    }\n",
       "</style>\n",
       "<table border=\"1\" class=\"dataframe\">\n",
       "  <thead>\n",
       "    <tr style=\"text-align: right;\">\n",
       "      <th></th>\n",
       "      <th>count</th>\n",
       "      <th>unique</th>\n",
       "      <th>top</th>\n",
       "      <th>freq</th>\n",
       "      <th>mean</th>\n",
       "      <th>std</th>\n",
       "      <th>min</th>\n",
       "      <th>25%</th>\n",
       "      <th>50%</th>\n",
       "      <th>75%</th>\n",
       "      <th>max</th>\n",
       "    </tr>\n",
       "  </thead>\n",
       "  <tbody>\n",
       "    <tr>\n",
       "      <th>Type</th>\n",
       "      <td>14993</td>\n",
       "      <td>NaN</td>\n",
       "      <td>NaN</td>\n",
       "      <td>NaN</td>\n",
       "      <td>1.45761</td>\n",
       "      <td>0.498217</td>\n",
       "      <td>1</td>\n",
       "      <td>1</td>\n",
       "      <td>1</td>\n",
       "      <td>2</td>\n",
       "      <td>2</td>\n",
       "    </tr>\n",
       "    <tr>\n",
       "      <th>Name</th>\n",
       "      <td>13736</td>\n",
       "      <td>9060</td>\n",
       "      <td>Baby</td>\n",
       "      <td>66</td>\n",
       "      <td>NaN</td>\n",
       "      <td>NaN</td>\n",
       "      <td>NaN</td>\n",
       "      <td>NaN</td>\n",
       "      <td>NaN</td>\n",
       "      <td>NaN</td>\n",
       "      <td>NaN</td>\n",
       "    </tr>\n",
       "    <tr>\n",
       "      <th>Age</th>\n",
       "      <td>14993</td>\n",
       "      <td>NaN</td>\n",
       "      <td>NaN</td>\n",
       "      <td>NaN</td>\n",
       "      <td>10.4521</td>\n",
       "      <td>18.1558</td>\n",
       "      <td>0</td>\n",
       "      <td>2</td>\n",
       "      <td>3</td>\n",
       "      <td>12</td>\n",
       "      <td>255</td>\n",
       "    </tr>\n",
       "    <tr>\n",
       "      <th>Breed1</th>\n",
       "      <td>14993</td>\n",
       "      <td>NaN</td>\n",
       "      <td>NaN</td>\n",
       "      <td>NaN</td>\n",
       "      <td>265.273</td>\n",
       "      <td>60.0568</td>\n",
       "      <td>0</td>\n",
       "      <td>265</td>\n",
       "      <td>266</td>\n",
       "      <td>307</td>\n",
       "      <td>307</td>\n",
       "    </tr>\n",
       "    <tr>\n",
       "      <th>Breed2</th>\n",
       "      <td>14993</td>\n",
       "      <td>NaN</td>\n",
       "      <td>NaN</td>\n",
       "      <td>NaN</td>\n",
       "      <td>74.0097</td>\n",
       "      <td>123.012</td>\n",
       "      <td>0</td>\n",
       "      <td>0</td>\n",
       "      <td>0</td>\n",
       "      <td>179</td>\n",
       "      <td>307</td>\n",
       "    </tr>\n",
       "    <tr>\n",
       "      <th>Gender</th>\n",
       "      <td>14993</td>\n",
       "      <td>NaN</td>\n",
       "      <td>NaN</td>\n",
       "      <td>NaN</td>\n",
       "      <td>1.77616</td>\n",
       "      <td>0.681592</td>\n",
       "      <td>1</td>\n",
       "      <td>1</td>\n",
       "      <td>2</td>\n",
       "      <td>2</td>\n",
       "      <td>3</td>\n",
       "    </tr>\n",
       "    <tr>\n",
       "      <th>Color1</th>\n",
       "      <td>14993</td>\n",
       "      <td>NaN</td>\n",
       "      <td>NaN</td>\n",
       "      <td>NaN</td>\n",
       "      <td>2.23418</td>\n",
       "      <td>1.74523</td>\n",
       "      <td>1</td>\n",
       "      <td>1</td>\n",
       "      <td>2</td>\n",
       "      <td>3</td>\n",
       "      <td>7</td>\n",
       "    </tr>\n",
       "    <tr>\n",
       "      <th>Color2</th>\n",
       "      <td>14993</td>\n",
       "      <td>NaN</td>\n",
       "      <td>NaN</td>\n",
       "      <td>NaN</td>\n",
       "      <td>3.22284</td>\n",
       "      <td>2.74256</td>\n",
       "      <td>0</td>\n",
       "      <td>0</td>\n",
       "      <td>2</td>\n",
       "      <td>6</td>\n",
       "      <td>7</td>\n",
       "    </tr>\n",
       "    <tr>\n",
       "      <th>Color3</th>\n",
       "      <td>14993</td>\n",
       "      <td>NaN</td>\n",
       "      <td>NaN</td>\n",
       "      <td>NaN</td>\n",
       "      <td>1.88201</td>\n",
       "      <td>2.98409</td>\n",
       "      <td>0</td>\n",
       "      <td>0</td>\n",
       "      <td>0</td>\n",
       "      <td>5</td>\n",
       "      <td>7</td>\n",
       "    </tr>\n",
       "    <tr>\n",
       "      <th>MaturitySize</th>\n",
       "      <td>14993</td>\n",
       "      <td>NaN</td>\n",
       "      <td>NaN</td>\n",
       "      <td>NaN</td>\n",
       "      <td>1.862</td>\n",
       "      <td>0.547959</td>\n",
       "      <td>1</td>\n",
       "      <td>2</td>\n",
       "      <td>2</td>\n",
       "      <td>2</td>\n",
       "      <td>4</td>\n",
       "    </tr>\n",
       "    <tr>\n",
       "      <th>FurLength</th>\n",
       "      <td>14993</td>\n",
       "      <td>NaN</td>\n",
       "      <td>NaN</td>\n",
       "      <td>NaN</td>\n",
       "      <td>1.46748</td>\n",
       "      <td>0.59907</td>\n",
       "      <td>1</td>\n",
       "      <td>1</td>\n",
       "      <td>1</td>\n",
       "      <td>2</td>\n",
       "      <td>3</td>\n",
       "    </tr>\n",
       "    <tr>\n",
       "      <th>Vaccinated</th>\n",
       "      <td>14993</td>\n",
       "      <td>NaN</td>\n",
       "      <td>NaN</td>\n",
       "      <td>NaN</td>\n",
       "      <td>1.73121</td>\n",
       "      <td>0.667649</td>\n",
       "      <td>1</td>\n",
       "      <td>1</td>\n",
       "      <td>2</td>\n",
       "      <td>2</td>\n",
       "      <td>3</td>\n",
       "    </tr>\n",
       "    <tr>\n",
       "      <th>Dewormed</th>\n",
       "      <td>14993</td>\n",
       "      <td>NaN</td>\n",
       "      <td>NaN</td>\n",
       "      <td>NaN</td>\n",
       "      <td>1.55873</td>\n",
       "      <td>0.695817</td>\n",
       "      <td>1</td>\n",
       "      <td>1</td>\n",
       "      <td>1</td>\n",
       "      <td>2</td>\n",
       "      <td>3</td>\n",
       "    </tr>\n",
       "    <tr>\n",
       "      <th>Sterilized</th>\n",
       "      <td>14993</td>\n",
       "      <td>NaN</td>\n",
       "      <td>NaN</td>\n",
       "      <td>NaN</td>\n",
       "      <td>1.91423</td>\n",
       "      <td>0.566172</td>\n",
       "      <td>1</td>\n",
       "      <td>2</td>\n",
       "      <td>2</td>\n",
       "      <td>2</td>\n",
       "      <td>3</td>\n",
       "    </tr>\n",
       "    <tr>\n",
       "      <th>Health</th>\n",
       "      <td>14993</td>\n",
       "      <td>NaN</td>\n",
       "      <td>NaN</td>\n",
       "      <td>NaN</td>\n",
       "      <td>1.03662</td>\n",
       "      <td>0.199535</td>\n",
       "      <td>1</td>\n",
       "      <td>1</td>\n",
       "      <td>1</td>\n",
       "      <td>1</td>\n",
       "      <td>3</td>\n",
       "    </tr>\n",
       "    <tr>\n",
       "      <th>Quantity</th>\n",
       "      <td>14993</td>\n",
       "      <td>NaN</td>\n",
       "      <td>NaN</td>\n",
       "      <td>NaN</td>\n",
       "      <td>1.57607</td>\n",
       "      <td>1.47248</td>\n",
       "      <td>1</td>\n",
       "      <td>1</td>\n",
       "      <td>1</td>\n",
       "      <td>1</td>\n",
       "      <td>20</td>\n",
       "    </tr>\n",
       "    <tr>\n",
       "      <th>Fee</th>\n",
       "      <td>14993</td>\n",
       "      <td>NaN</td>\n",
       "      <td>NaN</td>\n",
       "      <td>NaN</td>\n",
       "      <td>21.26</td>\n",
       "      <td>78.4145</td>\n",
       "      <td>0</td>\n",
       "      <td>0</td>\n",
       "      <td>0</td>\n",
       "      <td>0</td>\n",
       "      <td>3000</td>\n",
       "    </tr>\n",
       "    <tr>\n",
       "      <th>State</th>\n",
       "      <td>14993</td>\n",
       "      <td>NaN</td>\n",
       "      <td>NaN</td>\n",
       "      <td>NaN</td>\n",
       "      <td>41346</td>\n",
       "      <td>32.4442</td>\n",
       "      <td>41324</td>\n",
       "      <td>41326</td>\n",
       "      <td>41326</td>\n",
       "      <td>41401</td>\n",
       "      <td>41415</td>\n",
       "    </tr>\n",
       "    <tr>\n",
       "      <th>RescuerID</th>\n",
       "      <td>14993</td>\n",
       "      <td>5595</td>\n",
       "      <td>fa90fa5b1ee11c86938398b60abc32cb</td>\n",
       "      <td>459</td>\n",
       "      <td>NaN</td>\n",
       "      <td>NaN</td>\n",
       "      <td>NaN</td>\n",
       "      <td>NaN</td>\n",
       "      <td>NaN</td>\n",
       "      <td>NaN</td>\n",
       "      <td>NaN</td>\n",
       "    </tr>\n",
       "    <tr>\n",
       "      <th>VideoAmt</th>\n",
       "      <td>14993</td>\n",
       "      <td>NaN</td>\n",
       "      <td>NaN</td>\n",
       "      <td>NaN</td>\n",
       "      <td>0.0567598</td>\n",
       "      <td>0.346185</td>\n",
       "      <td>0</td>\n",
       "      <td>0</td>\n",
       "      <td>0</td>\n",
       "      <td>0</td>\n",
       "      <td>8</td>\n",
       "    </tr>\n",
       "    <tr>\n",
       "      <th>Description</th>\n",
       "      <td>14981</td>\n",
       "      <td>14032</td>\n",
       "      <td>For Adoption</td>\n",
       "      <td>164</td>\n",
       "      <td>NaN</td>\n",
       "      <td>NaN</td>\n",
       "      <td>NaN</td>\n",
       "      <td>NaN</td>\n",
       "      <td>NaN</td>\n",
       "      <td>NaN</td>\n",
       "      <td>NaN</td>\n",
       "    </tr>\n",
       "    <tr>\n",
       "      <th>PetID</th>\n",
       "      <td>14993</td>\n",
       "      <td>14993</td>\n",
       "      <td>51b7034e6</td>\n",
       "      <td>1</td>\n",
       "      <td>NaN</td>\n",
       "      <td>NaN</td>\n",
       "      <td>NaN</td>\n",
       "      <td>NaN</td>\n",
       "      <td>NaN</td>\n",
       "      <td>NaN</td>\n",
       "      <td>NaN</td>\n",
       "    </tr>\n",
       "    <tr>\n",
       "      <th>PhotoAmt</th>\n",
       "      <td>14993</td>\n",
       "      <td>NaN</td>\n",
       "      <td>NaN</td>\n",
       "      <td>NaN</td>\n",
       "      <td>3.88921</td>\n",
       "      <td>3.48781</td>\n",
       "      <td>0</td>\n",
       "      <td>2</td>\n",
       "      <td>3</td>\n",
       "      <td>5</td>\n",
       "      <td>30</td>\n",
       "    </tr>\n",
       "    <tr>\n",
       "      <th>AdoptionSpeed</th>\n",
       "      <td>14993</td>\n",
       "      <td>NaN</td>\n",
       "      <td>NaN</td>\n",
       "      <td>NaN</td>\n",
       "      <td>2.51644</td>\n",
       "      <td>1.17726</td>\n",
       "      <td>0</td>\n",
       "      <td>2</td>\n",
       "      <td>2</td>\n",
       "      <td>4</td>\n",
       "      <td>4</td>\n",
       "    </tr>\n",
       "  </tbody>\n",
       "</table>\n",
       "</div>"
      ],
      "text/plain": [
       "               count unique                               top freq       mean  \\\n",
       "Type           14993    NaN                               NaN  NaN    1.45761   \n",
       "Name           13736   9060                              Baby   66        NaN   \n",
       "Age            14993    NaN                               NaN  NaN    10.4521   \n",
       "Breed1         14993    NaN                               NaN  NaN    265.273   \n",
       "Breed2         14993    NaN                               NaN  NaN    74.0097   \n",
       "Gender         14993    NaN                               NaN  NaN    1.77616   \n",
       "Color1         14993    NaN                               NaN  NaN    2.23418   \n",
       "Color2         14993    NaN                               NaN  NaN    3.22284   \n",
       "Color3         14993    NaN                               NaN  NaN    1.88201   \n",
       "MaturitySize   14993    NaN                               NaN  NaN      1.862   \n",
       "FurLength      14993    NaN                               NaN  NaN    1.46748   \n",
       "Vaccinated     14993    NaN                               NaN  NaN    1.73121   \n",
       "Dewormed       14993    NaN                               NaN  NaN    1.55873   \n",
       "Sterilized     14993    NaN                               NaN  NaN    1.91423   \n",
       "Health         14993    NaN                               NaN  NaN    1.03662   \n",
       "Quantity       14993    NaN                               NaN  NaN    1.57607   \n",
       "Fee            14993    NaN                               NaN  NaN      21.26   \n",
       "State          14993    NaN                               NaN  NaN      41346   \n",
       "RescuerID      14993   5595  fa90fa5b1ee11c86938398b60abc32cb  459        NaN   \n",
       "VideoAmt       14993    NaN                               NaN  NaN  0.0567598   \n",
       "Description    14981  14032                      For Adoption  164        NaN   \n",
       "PetID          14993  14993                         51b7034e6    1        NaN   \n",
       "PhotoAmt       14993    NaN                               NaN  NaN    3.88921   \n",
       "AdoptionSpeed  14993    NaN                               NaN  NaN    2.51644   \n",
       "\n",
       "                    std    min    25%    50%    75%    max  \n",
       "Type           0.498217      1      1      1      2      2  \n",
       "Name                NaN    NaN    NaN    NaN    NaN    NaN  \n",
       "Age             18.1558      0      2      3     12    255  \n",
       "Breed1          60.0568      0    265    266    307    307  \n",
       "Breed2          123.012      0      0      0    179    307  \n",
       "Gender         0.681592      1      1      2      2      3  \n",
       "Color1          1.74523      1      1      2      3      7  \n",
       "Color2          2.74256      0      0      2      6      7  \n",
       "Color3          2.98409      0      0      0      5      7  \n",
       "MaturitySize   0.547959      1      2      2      2      4  \n",
       "FurLength       0.59907      1      1      1      2      3  \n",
       "Vaccinated     0.667649      1      1      2      2      3  \n",
       "Dewormed       0.695817      1      1      1      2      3  \n",
       "Sterilized     0.566172      1      2      2      2      3  \n",
       "Health         0.199535      1      1      1      1      3  \n",
       "Quantity        1.47248      1      1      1      1     20  \n",
       "Fee             78.4145      0      0      0      0   3000  \n",
       "State           32.4442  41324  41326  41326  41401  41415  \n",
       "RescuerID           NaN    NaN    NaN    NaN    NaN    NaN  \n",
       "VideoAmt       0.346185      0      0      0      0      8  \n",
       "Description         NaN    NaN    NaN    NaN    NaN    NaN  \n",
       "PetID               NaN    NaN    NaN    NaN    NaN    NaN  \n",
       "PhotoAmt        3.48781      0      2      3      5     30  \n",
       "AdoptionSpeed   1.17726      0      2      2      4      4  "
      ]
     },
     "metadata": {},
     "output_type": "display_data"
    }
   ],
   "source": [
    "display_all_vars(all_train.describe(include='all').T)"
   ]
  },
  {
   "cell_type": "code",
   "execution_count": 17,
   "metadata": {
    "scrolled": true
   },
   "outputs": [
    {
     "data": {
      "text/html": [
       "<div>\n",
       "<style scoped>\n",
       "    .dataframe tbody tr th:only-of-type {\n",
       "        vertical-align: middle;\n",
       "    }\n",
       "\n",
       "    .dataframe tbody tr th {\n",
       "        vertical-align: top;\n",
       "    }\n",
       "\n",
       "    .dataframe thead th {\n",
       "        text-align: right;\n",
       "    }\n",
       "</style>\n",
       "<table border=\"1\" class=\"dataframe\">\n",
       "  <thead>\n",
       "    <tr style=\"text-align: right;\">\n",
       "      <th></th>\n",
       "      <th>count</th>\n",
       "      <th>unique</th>\n",
       "      <th>top</th>\n",
       "      <th>freq</th>\n",
       "      <th>mean</th>\n",
       "      <th>std</th>\n",
       "      <th>min</th>\n",
       "      <th>25%</th>\n",
       "      <th>50%</th>\n",
       "      <th>75%</th>\n",
       "      <th>max</th>\n",
       "    </tr>\n",
       "  </thead>\n",
       "  <tbody>\n",
       "    <tr>\n",
       "      <th>Type</th>\n",
       "      <td>3948</td>\n",
       "      <td>NaN</td>\n",
       "      <td>NaN</td>\n",
       "      <td>NaN</td>\n",
       "      <td>1.52609</td>\n",
       "      <td>0.499382</td>\n",
       "      <td>1</td>\n",
       "      <td>1</td>\n",
       "      <td>2</td>\n",
       "      <td>2</td>\n",
       "      <td>2</td>\n",
       "    </tr>\n",
       "    <tr>\n",
       "      <th>Name</th>\n",
       "      <td>3645</td>\n",
       "      <td>2855</td>\n",
       "      <td>Brownie</td>\n",
       "      <td>19</td>\n",
       "      <td>NaN</td>\n",
       "      <td>NaN</td>\n",
       "      <td>NaN</td>\n",
       "      <td>NaN</td>\n",
       "      <td>NaN</td>\n",
       "      <td>NaN</td>\n",
       "      <td>NaN</td>\n",
       "    </tr>\n",
       "    <tr>\n",
       "      <th>Age</th>\n",
       "      <td>3948</td>\n",
       "      <td>NaN</td>\n",
       "      <td>NaN</td>\n",
       "      <td>NaN</td>\n",
       "      <td>11.5646</td>\n",
       "      <td>18.5684</td>\n",
       "      <td>0</td>\n",
       "      <td>2</td>\n",
       "      <td>4</td>\n",
       "      <td>12</td>\n",
       "      <td>180</td>\n",
       "    </tr>\n",
       "    <tr>\n",
       "      <th>Breed1</th>\n",
       "      <td>3948</td>\n",
       "      <td>NaN</td>\n",
       "      <td>NaN</td>\n",
       "      <td>NaN</td>\n",
       "      <td>263.033</td>\n",
       "      <td>59.1781</td>\n",
       "      <td>2</td>\n",
       "      <td>265</td>\n",
       "      <td>266</td>\n",
       "      <td>307</td>\n",
       "      <td>307</td>\n",
       "    </tr>\n",
       "    <tr>\n",
       "      <th>Breed2</th>\n",
       "      <td>3948</td>\n",
       "      <td>NaN</td>\n",
       "      <td>NaN</td>\n",
       "      <td>NaN</td>\n",
       "      <td>57.3594</td>\n",
       "      <td>112.087</td>\n",
       "      <td>0</td>\n",
       "      <td>0</td>\n",
       "      <td>0</td>\n",
       "      <td>0</td>\n",
       "      <td>307</td>\n",
       "    </tr>\n",
       "    <tr>\n",
       "      <th>Gender</th>\n",
       "      <td>3948</td>\n",
       "      <td>NaN</td>\n",
       "      <td>NaN</td>\n",
       "      <td>NaN</td>\n",
       "      <td>1.78267</td>\n",
       "      <td>0.692633</td>\n",
       "      <td>1</td>\n",
       "      <td>1</td>\n",
       "      <td>2</td>\n",
       "      <td>2</td>\n",
       "      <td>3</td>\n",
       "    </tr>\n",
       "    <tr>\n",
       "      <th>Color1</th>\n",
       "      <td>3948</td>\n",
       "      <td>NaN</td>\n",
       "      <td>NaN</td>\n",
       "      <td>NaN</td>\n",
       "      <td>2.23202</td>\n",
       "      <td>1.73661</td>\n",
       "      <td>1</td>\n",
       "      <td>1</td>\n",
       "      <td>2</td>\n",
       "      <td>3</td>\n",
       "      <td>7</td>\n",
       "    </tr>\n",
       "    <tr>\n",
       "      <th>Color2</th>\n",
       "      <td>3948</td>\n",
       "      <td>NaN</td>\n",
       "      <td>NaN</td>\n",
       "      <td>NaN</td>\n",
       "      <td>3.35562</td>\n",
       "      <td>2.70014</td>\n",
       "      <td>0</td>\n",
       "      <td>0</td>\n",
       "      <td>3</td>\n",
       "      <td>6</td>\n",
       "      <td>7</td>\n",
       "    </tr>\n",
       "    <tr>\n",
       "      <th>Color3</th>\n",
       "      <td>3948</td>\n",
       "      <td>NaN</td>\n",
       "      <td>NaN</td>\n",
       "      <td>NaN</td>\n",
       "      <td>2.0613</td>\n",
       "      <td>3.04136</td>\n",
       "      <td>0</td>\n",
       "      <td>0</td>\n",
       "      <td>0</td>\n",
       "      <td>6</td>\n",
       "      <td>7</td>\n",
       "    </tr>\n",
       "    <tr>\n",
       "      <th>MaturitySize</th>\n",
       "      <td>3948</td>\n",
       "      <td>NaN</td>\n",
       "      <td>NaN</td>\n",
       "      <td>NaN</td>\n",
       "      <td>1.82447</td>\n",
       "      <td>0.569772</td>\n",
       "      <td>1</td>\n",
       "      <td>1</td>\n",
       "      <td>2</td>\n",
       "      <td>2</td>\n",
       "      <td>4</td>\n",
       "    </tr>\n",
       "    <tr>\n",
       "      <th>FurLength</th>\n",
       "      <td>3948</td>\n",
       "      <td>NaN</td>\n",
       "      <td>NaN</td>\n",
       "      <td>NaN</td>\n",
       "      <td>1.46682</td>\n",
       "      <td>0.613308</td>\n",
       "      <td>1</td>\n",
       "      <td>1</td>\n",
       "      <td>1</td>\n",
       "      <td>2</td>\n",
       "      <td>3</td>\n",
       "    </tr>\n",
       "    <tr>\n",
       "      <th>Vaccinated</th>\n",
       "      <td>3948</td>\n",
       "      <td>NaN</td>\n",
       "      <td>NaN</td>\n",
       "      <td>NaN</td>\n",
       "      <td>1.70365</td>\n",
       "      <td>0.6642</td>\n",
       "      <td>1</td>\n",
       "      <td>1</td>\n",
       "      <td>2</td>\n",
       "      <td>2</td>\n",
       "      <td>3</td>\n",
       "    </tr>\n",
       "    <tr>\n",
       "      <th>Dewormed</th>\n",
       "      <td>3948</td>\n",
       "      <td>NaN</td>\n",
       "      <td>NaN</td>\n",
       "      <td>NaN</td>\n",
       "      <td>1.50608</td>\n",
       "      <td>0.68293</td>\n",
       "      <td>1</td>\n",
       "      <td>1</td>\n",
       "      <td>1</td>\n",
       "      <td>2</td>\n",
       "      <td>3</td>\n",
       "    </tr>\n",
       "    <tr>\n",
       "      <th>Sterilized</th>\n",
       "      <td>3948</td>\n",
       "      <td>NaN</td>\n",
       "      <td>NaN</td>\n",
       "      <td>NaN</td>\n",
       "      <td>1.88931</td>\n",
       "      <td>0.587995</td>\n",
       "      <td>1</td>\n",
       "      <td>2</td>\n",
       "      <td>2</td>\n",
       "      <td>2</td>\n",
       "      <td>3</td>\n",
       "    </tr>\n",
       "    <tr>\n",
       "      <th>Health</th>\n",
       "      <td>3948</td>\n",
       "      <td>NaN</td>\n",
       "      <td>NaN</td>\n",
       "      <td>NaN</td>\n",
       "      <td>1.04357</td>\n",
       "      <td>0.218539</td>\n",
       "      <td>1</td>\n",
       "      <td>1</td>\n",
       "      <td>1</td>\n",
       "      <td>1</td>\n",
       "      <td>3</td>\n",
       "    </tr>\n",
       "    <tr>\n",
       "      <th>Quantity</th>\n",
       "      <td>3948</td>\n",
       "      <td>NaN</td>\n",
       "      <td>NaN</td>\n",
       "      <td>NaN</td>\n",
       "      <td>1.62639</td>\n",
       "      <td>1.60991</td>\n",
       "      <td>1</td>\n",
       "      <td>1</td>\n",
       "      <td>1</td>\n",
       "      <td>1</td>\n",
       "      <td>20</td>\n",
       "    </tr>\n",
       "    <tr>\n",
       "      <th>Fee</th>\n",
       "      <td>3948</td>\n",
       "      <td>NaN</td>\n",
       "      <td>NaN</td>\n",
       "      <td>NaN</td>\n",
       "      <td>27.3463</td>\n",
       "      <td>88.416</td>\n",
       "      <td>0</td>\n",
       "      <td>0</td>\n",
       "      <td>0</td>\n",
       "      <td>0</td>\n",
       "      <td>2400</td>\n",
       "    </tr>\n",
       "    <tr>\n",
       "      <th>State</th>\n",
       "      <td>3948</td>\n",
       "      <td>NaN</td>\n",
       "      <td>NaN</td>\n",
       "      <td>NaN</td>\n",
       "      <td>41351</td>\n",
       "      <td>34.7086</td>\n",
       "      <td>41324</td>\n",
       "      <td>41326</td>\n",
       "      <td>41326</td>\n",
       "      <td>41401</td>\n",
       "      <td>41401</td>\n",
       "    </tr>\n",
       "    <tr>\n",
       "      <th>RescuerID</th>\n",
       "      <td>3948</td>\n",
       "      <td>1518</td>\n",
       "      <td>4475f31553f0170229455e3c5645644f</td>\n",
       "      <td>146</td>\n",
       "      <td>NaN</td>\n",
       "      <td>NaN</td>\n",
       "      <td>NaN</td>\n",
       "      <td>NaN</td>\n",
       "      <td>NaN</td>\n",
       "      <td>NaN</td>\n",
       "      <td>NaN</td>\n",
       "    </tr>\n",
       "    <tr>\n",
       "      <th>VideoAmt</th>\n",
       "      <td>3948</td>\n",
       "      <td>NaN</td>\n",
       "      <td>NaN</td>\n",
       "      <td>NaN</td>\n",
       "      <td>0.0628166</td>\n",
       "      <td>0.391324</td>\n",
       "      <td>0</td>\n",
       "      <td>0</td>\n",
       "      <td>0</td>\n",
       "      <td>0</td>\n",
       "      <td>9</td>\n",
       "    </tr>\n",
       "    <tr>\n",
       "      <th>Description</th>\n",
       "      <td>3946</td>\n",
       "      <td>3765</td>\n",
       "      <td>Cat adoption requirements:-  The cat should b...</td>\n",
       "      <td>20</td>\n",
       "      <td>NaN</td>\n",
       "      <td>NaN</td>\n",
       "      <td>NaN</td>\n",
       "      <td>NaN</td>\n",
       "      <td>NaN</td>\n",
       "      <td>NaN</td>\n",
       "      <td>NaN</td>\n",
       "    </tr>\n",
       "    <tr>\n",
       "      <th>PetID</th>\n",
       "      <td>3948</td>\n",
       "      <td>3948</td>\n",
       "      <td>e88e25bc4</td>\n",
       "      <td>1</td>\n",
       "      <td>NaN</td>\n",
       "      <td>NaN</td>\n",
       "      <td>NaN</td>\n",
       "      <td>NaN</td>\n",
       "      <td>NaN</td>\n",
       "      <td>NaN</td>\n",
       "      <td>NaN</td>\n",
       "    </tr>\n",
       "    <tr>\n",
       "      <th>PhotoAmt</th>\n",
       "      <td>3948</td>\n",
       "      <td>NaN</td>\n",
       "      <td>NaN</td>\n",
       "      <td>NaN</td>\n",
       "      <td>3.80952</td>\n",
       "      <td>3.62796</td>\n",
       "      <td>0</td>\n",
       "      <td>2</td>\n",
       "      <td>3</td>\n",
       "      <td>5</td>\n",
       "      <td>30</td>\n",
       "    </tr>\n",
       "  </tbody>\n",
       "</table>\n",
       "</div>"
      ],
      "text/plain": [
       "             count unique                                                top  \\\n",
       "Type          3948    NaN                                                NaN   \n",
       "Name          3645   2855                                            Brownie   \n",
       "Age           3948    NaN                                                NaN   \n",
       "Breed1        3948    NaN                                                NaN   \n",
       "Breed2        3948    NaN                                                NaN   \n",
       "Gender        3948    NaN                                                NaN   \n",
       "Color1        3948    NaN                                                NaN   \n",
       "Color2        3948    NaN                                                NaN   \n",
       "Color3        3948    NaN                                                NaN   \n",
       "MaturitySize  3948    NaN                                                NaN   \n",
       "FurLength     3948    NaN                                                NaN   \n",
       "Vaccinated    3948    NaN                                                NaN   \n",
       "Dewormed      3948    NaN                                                NaN   \n",
       "Sterilized    3948    NaN                                                NaN   \n",
       "Health        3948    NaN                                                NaN   \n",
       "Quantity      3948    NaN                                                NaN   \n",
       "Fee           3948    NaN                                                NaN   \n",
       "State         3948    NaN                                                NaN   \n",
       "RescuerID     3948   1518                   4475f31553f0170229455e3c5645644f   \n",
       "VideoAmt      3948    NaN                                                NaN   \n",
       "Description   3946   3765  Cat adoption requirements:-  The cat should b...   \n",
       "PetID         3948   3948                                          e88e25bc4   \n",
       "PhotoAmt      3948    NaN                                                NaN   \n",
       "\n",
       "             freq       mean       std    min    25%    50%    75%    max  \n",
       "Type          NaN    1.52609  0.499382      1      1      2      2      2  \n",
       "Name           19        NaN       NaN    NaN    NaN    NaN    NaN    NaN  \n",
       "Age           NaN    11.5646   18.5684      0      2      4     12    180  \n",
       "Breed1        NaN    263.033   59.1781      2    265    266    307    307  \n",
       "Breed2        NaN    57.3594   112.087      0      0      0      0    307  \n",
       "Gender        NaN    1.78267  0.692633      1      1      2      2      3  \n",
       "Color1        NaN    2.23202   1.73661      1      1      2      3      7  \n",
       "Color2        NaN    3.35562   2.70014      0      0      3      6      7  \n",
       "Color3        NaN     2.0613   3.04136      0      0      0      6      7  \n",
       "MaturitySize  NaN    1.82447  0.569772      1      1      2      2      4  \n",
       "FurLength     NaN    1.46682  0.613308      1      1      1      2      3  \n",
       "Vaccinated    NaN    1.70365    0.6642      1      1      2      2      3  \n",
       "Dewormed      NaN    1.50608   0.68293      1      1      1      2      3  \n",
       "Sterilized    NaN    1.88931  0.587995      1      2      2      2      3  \n",
       "Health        NaN    1.04357  0.218539      1      1      1      1      3  \n",
       "Quantity      NaN    1.62639   1.60991      1      1      1      1     20  \n",
       "Fee           NaN    27.3463    88.416      0      0      0      0   2400  \n",
       "State         NaN      41351   34.7086  41324  41326  41326  41401  41401  \n",
       "RescuerID     146        NaN       NaN    NaN    NaN    NaN    NaN    NaN  \n",
       "VideoAmt      NaN  0.0628166  0.391324      0      0      0      0      9  \n",
       "Description    20        NaN       NaN    NaN    NaN    NaN    NaN    NaN  \n",
       "PetID           1        NaN       NaN    NaN    NaN    NaN    NaN    NaN  \n",
       "PhotoAmt      NaN    3.80952   3.62796      0      2      3      5     30  "
      ]
     },
     "metadata": {},
     "output_type": "display_data"
    }
   ],
   "source": [
    "display_all_vars(all_test.describe(include='all').T)"
   ]
  },
  {
   "cell_type": "markdown",
   "metadata": {},
   "source": [
    "### Feature datatypes"
   ]
  },
  {
   "cell_type": "markdown",
   "metadata": {},
   "source": [
    "The (pandas) datatype of each feature in both the training and testing data."
   ]
  },
  {
   "cell_type": "code",
   "execution_count": 18,
   "metadata": {
    "scrolled": false
   },
   "outputs": [
    {
     "data": {
      "text/plain": [
       "Type               int64\n",
       "Name              object\n",
       "Age                int64\n",
       "Breed1             int64\n",
       "Breed2             int64\n",
       "Gender             int64\n",
       "Color1             int64\n",
       "Color2             int64\n",
       "Color3             int64\n",
       "MaturitySize       int64\n",
       "FurLength          int64\n",
       "Vaccinated         int64\n",
       "Dewormed           int64\n",
       "Sterilized         int64\n",
       "Health             int64\n",
       "Quantity           int64\n",
       "Fee                int64\n",
       "State              int64\n",
       "RescuerID         object\n",
       "VideoAmt           int64\n",
       "Description       object\n",
       "PetID             object\n",
       "PhotoAmt         float64\n",
       "AdoptionSpeed      int64\n",
       "dtype: object"
      ]
     },
     "execution_count": 18,
     "metadata": {},
     "output_type": "execute_result"
    }
   ],
   "source": [
    "all_train.dtypes"
   ]
  },
  {
   "cell_type": "code",
   "execution_count": 19,
   "metadata": {
    "scrolled": false
   },
   "outputs": [
    {
     "data": {
      "text/plain": [
       "Type              int64\n",
       "Name             object\n",
       "Age               int64\n",
       "Breed1            int64\n",
       "Breed2            int64\n",
       "Gender            int64\n",
       "Color1            int64\n",
       "Color2            int64\n",
       "Color3            int64\n",
       "MaturitySize      int64\n",
       "FurLength         int64\n",
       "Vaccinated        int64\n",
       "Dewormed          int64\n",
       "Sterilized        int64\n",
       "Health            int64\n",
       "Quantity          int64\n",
       "Fee               int64\n",
       "State             int64\n",
       "RescuerID        object\n",
       "VideoAmt          int64\n",
       "Description      object\n",
       "PetID            object\n",
       "PhotoAmt        float64\n",
       "dtype: object"
      ]
     },
     "execution_count": 19,
     "metadata": {},
     "output_type": "execute_result"
    }
   ],
   "source": [
    "all_test.dtypes"
   ]
  },
  {
   "cell_type": "markdown",
   "metadata": {},
   "source": [
    "The majority of features are numeric (either int64 or float64). However, many of these are actually numeric representations of categorical data and will be treated as such during visualisation."
   ]
  },
  {
   "cell_type": "markdown",
   "metadata": {},
   "source": [
    "### Missing values"
   ]
  },
  {
   "cell_type": "code",
   "execution_count": 20,
   "metadata": {},
   "outputs": [
    {
     "data": {
      "text/plain": [
       "Type                0\n",
       "Name             1257\n",
       "Age                 0\n",
       "Breed1              0\n",
       "Breed2              0\n",
       "Gender              0\n",
       "Color1              0\n",
       "Color2              0\n",
       "Color3              0\n",
       "MaturitySize        0\n",
       "FurLength           0\n",
       "Vaccinated          0\n",
       "Dewormed            0\n",
       "Sterilized          0\n",
       "Health              0\n",
       "Quantity            0\n",
       "Fee                 0\n",
       "State               0\n",
       "RescuerID           0\n",
       "VideoAmt            0\n",
       "Description        12\n",
       "PetID               0\n",
       "PhotoAmt            0\n",
       "AdoptionSpeed       0\n",
       "dtype: int64"
      ]
     },
     "execution_count": 20,
     "metadata": {},
     "output_type": "execute_result"
    }
   ],
   "source": [
    "all_train.isna().sum()"
   ]
  },
  {
   "cell_type": "code",
   "execution_count": 21,
   "metadata": {},
   "outputs": [
    {
     "data": {
      "text/plain": [
       "Type              0\n",
       "Name            303\n",
       "Age               0\n",
       "Breed1            0\n",
       "Breed2            0\n",
       "Gender            0\n",
       "Color1            0\n",
       "Color2            0\n",
       "Color3            0\n",
       "MaturitySize      0\n",
       "FurLength         0\n",
       "Vaccinated        0\n",
       "Dewormed          0\n",
       "Sterilized        0\n",
       "Health            0\n",
       "Quantity          0\n",
       "Fee               0\n",
       "State             0\n",
       "RescuerID         0\n",
       "VideoAmt          0\n",
       "Description       2\n",
       "PetID             0\n",
       "PhotoAmt          0\n",
       "dtype: int64"
      ]
     },
     "execution_count": 21,
     "metadata": {},
     "output_type": "execute_result"
    }
   ],
   "source": [
    "all_test.isna().sum()"
   ]
  },
  {
   "cell_type": "markdown",
   "metadata": {},
   "source": [
    "Very few variables have missing values. Those that do are both text data and not considered during the EDA in this notebook. I return to them in the feature engineering notebook."
   ]
  },
  {
   "cell_type": "markdown",
   "metadata": {},
   "source": [
    "## Target feature: Adoption Speed"
   ]
  },
  {
   "cell_type": "markdown",
   "metadata": {},
   "source": [
    "The goal of the competition is to predict the Adoption Speed. This feature consists of five categories, represented by numbers 0 - 4. The meanings of each category, as listed in the competition information on Kaggle, are:\n",
    "\n",
    "- 0 - Pet was adopted on the same day as it was listed.\n",
    "- 1 - Pet was adopted between 1 and 7 days (1st week) after being listed.\n",
    "- 2 - Pet was adopted between 8 and 30 days (1st month) after being listed.\n",
    "- 3 - Pet was adopted between 31 and 90 days (2nd & 3rd month) after being listed.\n",
    "- 4 - No adoption after 100 days of being listed. (There are no pets in this dataset that waited between 90 and 100 days).\n",
    "\n",
    "\n",
    "As this feature is, of course, absent in the testing data, this section examines only the training data."
   ]
  },
  {
   "cell_type": "code",
   "execution_count": 26,
   "metadata": {},
   "outputs": [
    {
     "data": {
      "image/png": "[encoded data removed]",
      "text/plain": [
       "<Figure size 864x360 with 1 Axes>"
      ]
     },
     "metadata": {
      "needs_background": "light"
     },
     "output_type": "display_data"
    }
   ],
   "source": [
    "plt.figure(figsize=(12, 5))\n",
    "sns.countplot(x='AdoptionSpeed', data=all_train)\n",
    "plt.title('Pet adoption speed')\n",
    "plt.show()"
   ]
  },
  {
   "cell_type": "markdown",
   "metadata": {},
   "source": [
    "Very few pets are adopted the same day as they are listed (0). However, there is very little in the way of a clear pattern in the remaining adoption speed categories. Almost an equal number of pets wait either between 1 and 7 days (1) or between 31 and 90 days (3). Very slightly more are listed for over 100 days (4) than between 8 and 30 days (2), although this difference appeares largely negligable."
   ]
  },
  {
   "cell_type": "markdown",
   "metadata": {},
   "source": [
    "## Pet species"
   ]
  },
  {
   "cell_type": "markdown",
   "metadata": {},
   "source": [
    "The `Type` feature encodes the species of pet for that adoption listing where:\n",
    "\n",
    "- 1 = Dog\n",
    "- 2 = Cat.\n",
    "\n",
    "While multiple pets are sometimes included in a single listing, all pets within that listing are of the same type."
   ]
  },
  {
   "cell_type": "code",
   "execution_count": 7,
   "metadata": {},
   "outputs": [
    {
     "data": {
      "image/png": "[encoded data removed]",
      "text/plain": [
       "<Figure size 864x360 with 2 Axes>"
      ]
     },
     "metadata": {
      "needs_background": "light"
     },
     "output_type": "display_data"
    }
   ],
   "source": [
    "train_test_catplot('Type')"
   ]
  },
  {
   "cell_type": "markdown",
   "metadata": {},
   "source": [
    "The pet type distributions are not identical between the training and testing data with the former having more cats than dogs than the latter. When it comes to the prediction stage, however, this will likely make minimal, if any, difference to accuracy."
   ]
  },
  {
   "cell_type": "code",
   "execution_count": 8,
   "metadata": {},
   "outputs": [
    {
     "data": {
      "image/png": "[encoded data removed]",
      "text/plain": [
       "<Figure size 864x360 with 2 Axes>"
      ]
     },
     "metadata": {
      "needs_background": "light"
     },
     "output_type": "display_data"
    }
   ],
   "source": [
    "speed_catplot('Type', 'Pet type by adoption speed', 'Adoption speed by pet type')"
   ]
  },
  {
   "cell_type": "markdown",
   "metadata": {},
   "source": [
    "On the whole, cats appear to get adopted slightly more quickly than dogs. Differences between pet types is particularly salient for adoption speeds 3 and 4."
   ]
  },
  {
   "cell_type": "markdown",
   "metadata": {},
   "source": [
    "## Pet age"
   ]
  },
  {
   "cell_type": "markdown",
   "metadata": {},
   "source": [
    "The `age` feature is the age of the listed pet in months. It is unclear how age is calculated when the listing is for multiple pets."
   ]
  },
  {
   "cell_type": "code",
   "execution_count": 11,
   "metadata": {},
   "outputs": [
    {
     "data": {
      "image/png": "[encoded data removed]",
      "text/plain": [
       "<Figure size 864x360 with 2 Axes>"
      ]
     },
     "metadata": {
      "needs_background": "light"
     },
     "output_type": "display_data"
    }
   ],
   "source": [
    "train_test_distplot('Age')"
   ]
  },
  {
   "cell_type": "markdown",
   "metadata": {},
   "source": [
    "The majority of listed pets are very young and so the distributions are heavily right-skewed. This skew is slightly greater in the training data than in the testing data."
   ]
  },
  {
   "cell_type": "code",
   "execution_count": 20,
   "metadata": {},
   "outputs": [
    {
     "data": {
      "image/png": "[encoded data removed]",
      "text/plain": [
       "<Figure size 864x360 with 1 Axes>"
      ]
     },
     "metadata": {
      "needs_background": "light"
     },
     "output_type": "display_data"
    }
   ],
   "source": [
    "speed_stripplot('Age')"
   ]
  },
  {
   "cell_type": "markdown",
   "metadata": {},
   "source": [
    "The plot suggests a correlation between the age of the listed pet and the adoption speed. In general, younger pets are adopted more quickly than older pets."
   ]
  },
  {
   "cell_type": "markdown",
   "metadata": {},
   "source": [
    "## Pet gender"
   ]
  },
  {
   "cell_type": "markdown",
   "metadata": {},
   "source": [
    "Information about pet gender is given in the `Gender` feature:\n",
    "\n",
    "- 1 = Male\n",
    "- 2 = Female\n",
    "- 3 = Mixed (if profile represents group of pets)."
   ]
  },
  {
   "cell_type": "code",
   "execution_count": 21,
   "metadata": {},
   "outputs": [
    {
     "data": {
      "image/png": "[encoded data removed]",
      "text/plain": [
       "<Figure size 864x360 with 2 Axes>"
      ]
     },
     "metadata": {
      "needs_background": "light"
     },
     "output_type": "display_data"
    }
   ],
   "source": [
    "train_test_catplot('Gender')"
   ]
  },
  {
   "cell_type": "markdown",
   "metadata": {},
   "source": [
    "Distributions are similar between the training and testing data. In both cases, female pets make up a greater proportion of the data than male pets."
   ]
  },
  {
   "cell_type": "code",
   "execution_count": 22,
   "metadata": {},
   "outputs": [
    {
     "data": {
      "image/png": "[encoded data removed]",
      "text/plain": [
       "<Figure size 864x360 with 2 Axes>"
      ]
     },
     "metadata": {
      "needs_background": "light"
     },
     "output_type": "display_data"
    }
   ],
   "source": [
    "speed_catplot('Gender', 'Gender by adoption speed', 'Adoption speed by gender')"
   ]
  },
  {
   "cell_type": "markdown",
   "metadata": {},
   "source": [
    "For adoption speeds 0 and 1, male and female pets are adopted at roughly equal rates. After that, however, female pets make up a larger proportion of the pets. This may be an artefact of their larger proportion in the sample. It is also clear here that groups containing more than one pet are rarely adopted on the same day as listing; this is returned to properly when discussing the `Quantity` feature later."
   ]
  },
  {
   "cell_type": "markdown",
   "metadata": {},
   "source": [
    "## Pet size at maturity"
   ]
  },
  {
   "cell_type": "markdown",
   "metadata": {},
   "source": [
    "`MaturitySize` is a categorical feature that refers to the actual (or in the case of young animals, expected) size of the pet at maturity where:\n",
    "\n",
    "- 1 = Small\n",
    "- 2 = Medium\n",
    "- 3 = Large\n",
    "- 4 = Extra large\n",
    "- 0 = Not specified\n",
    "\n",
    "As with pet age, no clarification is given about this feature with regard to listings containing multiple pets."
   ]
  },
  {
   "cell_type": "code",
   "execution_count": 23,
   "metadata": {},
   "outputs": [
    {
     "data": {
      "image/png": "[encoded data removed]",
      "text/plain": [
       "<Figure size 864x360 with 2 Axes>"
      ]
     },
     "metadata": {
      "needs_background": "light"
     },
     "output_type": "display_data"
    }
   ],
   "source": [
    "train_test_catplot('MaturitySize')"
   ]
  },
  {
   "cell_type": "markdown",
   "metadata": {},
   "source": [
    "Again, the values of `MaturitySize` are similarly distributed between the training and testing data. Medium sized pets make up the majority of the data, with Small pets being the second most frequent size. While the data specification included an unspecified value (0), there are no pets in this group."
   ]
  },
  {
   "cell_type": "code",
   "execution_count": 24,
   "metadata": {},
   "outputs": [
    {
     "data": {
      "image/png": "[encoded data removed]",
      "text/plain": [
       "<Figure size 864x360 with 2 Axes>"
      ]
     },
     "metadata": {
      "needs_background": "light"
     },
     "output_type": "display_data"
    }
   ],
   "source": [
    "speed_catplot('MaturitySize', 'Pet size by adoption speed', 'Adoption speed by pet size')"
   ]
  },
  {
   "cell_type": "markdown",
   "metadata": {},
   "source": [
    "Medium pets are more represented than small pets in the slower speed categories (2-4) than in the remaining quicker categories. A similar pattern is not seen for the large pets beyond them being highly unlikely to be adopted on the same day as listing (0)."
   ]
  },
  {
   "cell_type": "markdown",
   "metadata": {},
   "source": [
    "## Fur length"
   ]
  },
  {
   "cell_type": "markdown",
   "metadata": {},
   "source": [
    "There are four categories of fur length in the `FurLength` feature:\n",
    "\n",
    "- 1 = Short\n",
    "- 2 = Medium\n",
    "- 3 = Long\n",
    "- 0 = Not specified\n",
    "\n",
    "As is becoming a recurring theme, no information is provided explaining how fur length was calculated for listings of multiple pets."
   ]
  },
  {
   "cell_type": "code",
   "execution_count": 25,
   "metadata": {},
   "outputs": [
    {
     "data": {
      "image/png": "[encoded data removed]",
      "text/plain": [
       "<Figure size 864x360 with 2 Axes>"
      ]
     },
     "metadata": {
      "needs_background": "light"
     },
     "output_type": "display_data"
    }
   ],
   "source": [
    "train_test_catplot('FurLength')"
   ]
  },
  {
   "cell_type": "markdown",
   "metadata": {},
   "source": [
    "`FurLength` has the same distribution in training and testing. Short-haired pets are the most common, and there are no cases of unspecified hair length."
   ]
  },
  {
   "cell_type": "code",
   "execution_count": 26,
   "metadata": {},
   "outputs": [
    {
     "data": {
      "image/png": "[encoded data removed]",
      "text/plain": [
       "<Figure size 864x360 with 2 Axes>"
      ]
     },
     "metadata": {
      "needs_background": "light"
     },
     "output_type": "display_data"
    }
   ],
   "source": [
    "speed_catplot('FurLength', 'Fur length by adoption speed', 'Adoption speed by fur length')"
   ]
  },
  {
   "cell_type": "markdown",
   "metadata": {},
   "source": [
    "Fur length appears to have very little impact on adoption speed."
   ]
  },
  {
   "cell_type": "markdown",
   "metadata": {},
   "source": [
    "## Vaccination status"
   ]
  },
  {
   "cell_type": "markdown",
   "metadata": {},
   "source": [
    "`Vaccinated` gives information about the vaccination status of the pet:\n",
    "\n",
    "- 1 = Vaccinated\n",
    "- 2 = Unvaccinated\n",
    "- 3 = Not sure."
   ]
  },
  {
   "cell_type": "code",
   "execution_count": 27,
   "metadata": {},
   "outputs": [
    {
     "data": {
      "image/png": "[encoded data removed]",
      "text/plain": [
       "<Figure size 864x360 with 2 Axes>"
      ]
     },
     "metadata": {
      "needs_background": "light"
     },
     "output_type": "display_data"
    }
   ],
   "source": [
    "train_test_catplot('Vaccinated')"
   ]
  },
  {
   "cell_type": "markdown",
   "metadata": {},
   "source": [
    "Of the pets with a known vaccination status, the sample is almost evenly split between vaccinated and unvaccinated animals, with the later being slightly more common than the former. This distribution is seen in both sets of data."
   ]
  },
  {
   "cell_type": "code",
   "execution_count": 28,
   "metadata": {},
   "outputs": [
    {
     "data": {
      "image/png": "[encoded data removed]",
      "text/plain": [
       "<Figure size 864x360 with 2 Axes>"
      ]
     },
     "metadata": {
      "needs_background": "light"
     },
     "output_type": "display_data"
    }
   ],
   "source": [
    "speed_catplot('Vaccinated', 'Vaccination status by adoption speed', 'Adoption speed by vaccination status')"
   ]
  },
  {
   "cell_type": "markdown",
   "metadata": {},
   "source": [
    "Unvaccinated pets make up a larger proportion of pets adopted within 30 days (0-2) compared with those adopted in a longer period of time. In terms of pets not adopted within 100 days (4), more are vaccinated than not. In other words, unvaccinated pets may, in general, be adopted slightly more quickly than vaccinated pets."
   ]
  },
  {
   "cell_type": "markdown",
   "metadata": {},
   "source": [
    "## Deworming status"
   ]
  },
  {
   "cell_type": "markdown",
   "metadata": {},
   "source": [
    "The `Dewormed` feature records if a pet has been dewormed, where:\n",
    "\n",
    "- 1 = Yes\n",
    "- 2 = No\n",
    "- 3 = Not sure"
   ]
  },
  {
   "cell_type": "code",
   "execution_count": 29,
   "metadata": {},
   "outputs": [
    {
     "data": {
      "image/png": "[encoded data removed]",
      "text/plain": [
       "<Figure size 864x360 with 2 Axes>"
      ]
     },
     "metadata": {
      "needs_background": "light"
     },
     "output_type": "display_data"
    }
   ],
   "source": [
    "train_test_catplot('Dewormed')"
   ]
  },
  {
   "cell_type": "markdown",
   "metadata": {},
   "source": [
    "More pets have been dewormed than not. As usual, distributions in this feature are similar between the datasets."
   ]
  },
  {
   "cell_type": "code",
   "execution_count": 30,
   "metadata": {},
   "outputs": [
    {
     "data": {
      "image/png": "[encoded data removed]",
      "text/plain": [
       "<Figure size 864x360 with 2 Axes>"
      ]
     },
     "metadata": {
      "needs_background": "light"
     },
     "output_type": "display_data"
    }
   ],
   "source": [
    "speed_catplot('Dewormed', 'Deworming status by adoption speed', 'Adoption speed by deworming status')"
   ]
  },
  {
   "cell_type": "markdown",
   "metadata": {},
   "source": [
    "Whether or not a pet has been dewormed appears to have a minimal relationship with the speed of adoption."
   ]
  },
  {
   "cell_type": "markdown",
   "metadata": {},
   "source": [
    "## Pet sterilization"
   ]
  },
  {
   "cell_type": "markdown",
   "metadata": {},
   "source": [
    "The `Sterilized` feature relates to whether a pet has been spayed or neutered, where:\n",
    "- 1 = Yes\n",
    "- 2 = No\n",
    "- 3 = Not sure"
   ]
  },
  {
   "cell_type": "code",
   "execution_count": 31,
   "metadata": {},
   "outputs": [
    {
     "data": {
      "image/png": "[encoded data removed]",
      "text/plain": [
       "<Figure size 864x360 with 2 Axes>"
      ]
     },
     "metadata": {
      "needs_background": "light"
     },
     "output_type": "display_data"
    }
   ],
   "source": [
    "train_test_catplot('Sterilized')"
   ]
  },
  {
   "cell_type": "markdown",
   "metadata": {},
   "source": [
    "The majority of pets listed have not been sterilized. It is possible this is not as common a procedure in Malaysia as it is in e.g. the UK and the US. Distributions between data sets are similar."
   ]
  },
  {
   "cell_type": "code",
   "execution_count": 32,
   "metadata": {},
   "outputs": [
    {
     "data": {
      "image/png": "[encoded data removed]",
      "text/plain": [
       "<Figure size 864x360 with 2 Axes>"
      ]
     },
     "metadata": {
      "needs_background": "light"
     },
     "output_type": "display_data"
    }
   ],
   "source": [
    "speed_catplot('Sterilized', 'Sterilization by adoption speed', 'Adoption speed by sterilization')"
   ]
  },
  {
   "cell_type": "markdown",
   "metadata": {},
   "source": [
    "Sterilized pets appear to be much less likely to be quickly adopted than unsterilized pets, with more than twice as many in category 4 as in category 1. This may suggest that, along with not being the norm (at least for pets offered for adoption), sterilization is considered undesirable."
   ]
  },
  {
   "cell_type": "markdown",
   "metadata": {},
   "source": [
    "## Pet health"
   ]
  },
  {
   "cell_type": "markdown",
   "metadata": {},
   "source": [
    "`Health` deals with the overall health of the listed pet, with:\n",
    "\n",
    "- 1 = Healthy\n",
    "- 2 = Minor injury\n",
    "- 3 = Major injury\n",
    "- 0 = Unspecified"
   ]
  },
  {
   "cell_type": "code",
   "execution_count": 33,
   "metadata": {},
   "outputs": [
    {
     "data": {
      "image/png": "[encoded data removed]",
      "text/plain": [
       "<Figure size 864x360 with 2 Axes>"
      ]
     },
     "metadata": {
      "needs_background": "light"
     },
     "output_type": "display_data"
    }
   ],
   "source": [
    "train_test_catplot('Health')"
   ]
  },
  {
   "cell_type": "markdown",
   "metadata": {},
   "source": [
    "Listed pets are overwhelmingly healthy. This will make it more difficult to discover any potentially salient patterns amongst those that are unhealthy or injured."
   ]
  },
  {
   "cell_type": "code",
   "execution_count": 34,
   "metadata": {},
   "outputs": [
    {
     "data": {
      "image/png": "[encoded data removed]",
      "text/plain": [
       "<Figure size 864x360 with 2 Axes>"
      ]
     },
     "metadata": {
      "needs_background": "light"
     },
     "output_type": "display_data"
    }
   ],
   "source": [
    "speed_catplot('Health', 'Pet health by adoption speed', 'Adoption speed by pet health')"
   ]
  },
  {
   "cell_type": "markdown",
   "metadata": {},
   "source": [
    "Although it is very difficult to tell, pets with minor injuries may be adopted more slowly than those that are healthy. There are too few listed pets with serious injuries for a similar trend to be observed."
   ]
  },
  {
   "cell_type": "markdown",
   "metadata": {},
   "source": [
    "## Quantity"
   ]
  },
  {
   "cell_type": "markdown",
   "metadata": {},
   "source": [
    "Some listings are for the adoption of multiple animals; this is the `Quantity` feature."
   ]
  },
  {
   "cell_type": "code",
   "execution_count": 35,
   "metadata": {},
   "outputs": [
    {
     "data": {
      "image/png": "[encoded data removed]",
      "text/plain": [
       "<Figure size 864x360 with 2 Axes>"
      ]
     },
     "metadata": {
      "needs_background": "light"
     },
     "output_type": "display_data"
    }
   ],
   "source": [
    "train_test_distplot('Quantity')"
   ]
  },
  {
   "cell_type": "markdown",
   "metadata": {},
   "source": [
    "Listings with only a single animal are the most frequent. Again, both training and testing data has the same distribution."
   ]
  },
  {
   "cell_type": "code",
   "execution_count": 36,
   "metadata": {},
   "outputs": [
    {
     "data": {
      "image/png": "[encoded data removed]",
      "text/plain": [
       "<Figure size 864x360 with 1 Axes>"
      ]
     },
     "metadata": {
      "needs_background": "light"
     },
     "output_type": "display_data"
    }
   ],
   "source": [
    "speed_stripplot('Quantity')"
   ]
  },
  {
   "cell_type": "markdown",
   "metadata": {},
   "source": [
    "As mentioned earlier in the Pet Gender section, larger groups of pets are less likely to be adopted on the same day as listing (0). In addition, the quantity variable shows that larger groups take longer to be adopted overall than smaller groups, although there are clear exceptions to this pattern such as the 20-animal group in category 1."
   ]
  },
  {
   "cell_type": "markdown",
   "metadata": {},
   "source": [
    "## Fees"
   ]
  },
  {
   "cell_type": "markdown",
   "metadata": {},
   "source": [
    "Some listings include an adoption fee. The competition data summary on Kaggle does not mention the currency."
   ]
  },
  {
   "cell_type": "code",
   "execution_count": 38,
   "metadata": {},
   "outputs": [
    {
     "data": {
      "image/png": "[encoded data removed]",
      "text/plain": [
       "<Figure size 864x360 with 2 Axes>"
      ]
     },
     "metadata": {
      "needs_background": "light"
     },
     "output_type": "display_data"
    }
   ],
   "source": [
    "train_test_distplot('Fee')"
   ]
  },
  {
   "cell_type": "markdown",
   "metadata": {},
   "source": [
    "Most pets are offered for free, or for a minimal fee. However, both training and testing distributions have a long tail, with fees reaching 3000 and 2400 respectively."
   ]
  },
  {
   "cell_type": "code",
   "execution_count": 40,
   "metadata": {},
   "outputs": [
    {
     "data": {
      "image/png": "[encoded data removed]",
      "text/plain": [
       "<Figure size 864x360 with 1 Axes>"
      ]
     },
     "metadata": {
      "needs_background": "light"
     },
     "output_type": "display_data"
    }
   ],
   "source": [
    "speed_stripplot('Fee')"
   ]
  },
  {
   "cell_type": "markdown",
   "metadata": {},
   "source": [
    "The adoption fee seems to have little impact on the adoption speed."
   ]
  },
  {
   "cell_type": "markdown",
   "metadata": {},
   "source": [
    "## Number of videos"
   ]
  },
  {
   "cell_type": "markdown",
   "metadata": {},
   "source": [
    "Videos of a pet can be included in the adoption listing - this is the `VideoAmt` feature."
   ]
  },
  {
   "cell_type": "code",
   "execution_count": 41,
   "metadata": {},
   "outputs": [
    {
     "data": {
      "image/png": "[encoded data removed]",
      "text/plain": [
       "<Figure size 864x360 with 2 Axes>"
      ]
     },
     "metadata": {
      "needs_background": "light"
     },
     "output_type": "display_data"
    }
   ],
   "source": [
    "train_test_distplot('VideoAmt')"
   ]
  },
  {
   "cell_type": "markdown",
   "metadata": {},
   "source": [
    "In both training and testing data, most pet listings do not contain any videos."
   ]
  },
  {
   "cell_type": "code",
   "execution_count": 42,
   "metadata": {},
   "outputs": [
    {
     "data": {
      "image/png": "[encoded data removed]",
      "text/plain": [
       "<Figure size 864x360 with 1 Axes>"
      ]
     },
     "metadata": {
      "needs_background": "light"
     },
     "output_type": "display_data"
    }
   ],
   "source": [
    "speed_stripplot('VideoAmt')"
   ]
  },
  {
   "cell_type": "markdown",
   "metadata": {},
   "source": [
    "Including more videos appears to weakly correlate with a slower adoption speed. This may, however, be spurious. It may also, to speculate for a moment, be possible to upload more videos after the adoption listing has been made - if so, some videos may be added to pets that are already struggling to be adopted quickly in an attempt to get them adopted."
   ]
  },
  {
   "cell_type": "markdown",
   "metadata": {},
   "source": [
    "## Number of photos"
   ]
  },
  {
   "cell_type": "markdown",
   "metadata": {},
   "source": [
    "Similar to the previous feature, `PhotoAmt` is the number of uploaded photos for each adoption listing."
   ]
  },
  {
   "cell_type": "code",
   "execution_count": 43,
   "metadata": {},
   "outputs": [
    {
     "data": {
      "image/png": "[encoded data removed]",
      "text/plain": [
       "<Figure size 864x360 with 2 Axes>"
      ]
     },
     "metadata": {
      "needs_background": "light"
     },
     "output_type": "display_data"
    }
   ],
   "source": [
    "train_test_distplot('PhotoAmt')"
   ]
  },
  {
   "cell_type": "markdown",
   "metadata": {},
   "source": [
    "It is common for listings to have between 0 and 5 photos, but some have up to 30."
   ]
  },
  {
   "cell_type": "code",
   "execution_count": 44,
   "metadata": {},
   "outputs": [
    {
     "data": {
      "image/png": "[encoded data removed]",
      "text/plain": [
       "<Figure size 864x360 with 1 Axes>"
      ]
     },
     "metadata": {
      "needs_background": "light"
     },
     "output_type": "display_data"
    }
   ],
   "source": [
    "speed_stripplot('PhotoAmt')"
   ]
  },
  {
   "cell_type": "markdown",
   "metadata": {},
   "source": [
    "## Pet colour"
   ]
  },
  {
   "attachments": {},
   "cell_type": "markdown",
   "metadata": {},
   "source": [
    "The colour of pets is split across three separate features, with `Color1` representing the primary colour of the animal, `Color2` the secondary and `Color3` the tertiary. There are 7 colours (and one NA value):\n",
    "\n",
    "- 1\tBlack\n",
    "- 2\tBrown\n",
    "- 3\tGolden\n",
    "- 4\tYellow\n",
    "- 5\tCream\n",
    "- 6\tGray\n",
    "- 7\tWhite\n",
    "- 0 No colour"
   ]
  },
  {
   "cell_type": "markdown",
   "metadata": {},
   "source": [
    "### Color1"
   ]
  },
  {
   "cell_type": "code",
   "execution_count": 45,
   "metadata": {},
   "outputs": [
    {
     "data": {
      "image/png": "[encoded data removed]",
      "text/plain": [
       "<Figure size 864x360 with 2 Axes>"
      ]
     },
     "metadata": {
      "needs_background": "light"
     },
     "output_type": "display_data"
    }
   ],
   "source": [
    "train_test_catplot('Color1')"
   ]
  },
  {
   "cell_type": "markdown",
   "metadata": {},
   "source": [
    "Black and brown are the two most frequent primary colours in both the training and testing data."
   ]
  },
  {
   "cell_type": "code",
   "execution_count": 46,
   "metadata": {},
   "outputs": [
    {
     "data": {
      "image/png": "[encoded data removed]",
      "text/plain": [
       "<Figure size 864x360 with 2 Axes>"
      ]
     },
     "metadata": {
      "needs_background": "light"
     },
     "output_type": "display_data"
    }
   ],
   "source": [
    "speed_catplot('Color1', 'Primary color by adoption speed', 'Adoption speed by primary color')"
   ]
  },
  {
   "cell_type": "markdown",
   "metadata": {},
   "source": [
    "The primary colour of an animal appears to have minimal systemic impact on the adoption speed."
   ]
  },
  {
   "cell_type": "markdown",
   "metadata": {},
   "source": [
    "### Color2"
   ]
  },
  {
   "cell_type": "code",
   "execution_count": 47,
   "metadata": {},
   "outputs": [
    {
     "data": {
      "image/png": "[encoded data removed]",
      "text/plain": [
       "<Figure size 864x360 with 2 Axes>"
      ]
     },
     "metadata": {
      "needs_background": "light"
     },
     "output_type": "display_data"
    }
   ],
   "source": [
    "train_test_catplot('Color2')"
   ]
  },
  {
   "cell_type": "markdown",
   "metadata": {},
   "source": [
    "Most frequently, pets only have a single colour. Where two are present, the most common secondary colours are brown and white."
   ]
  },
  {
   "cell_type": "code",
   "execution_count": 48,
   "metadata": {},
   "outputs": [
    {
     "data": {
      "image/png": "[encoded data removed]",
      "text/plain": [
       "<Figure size 864x360 with 2 Axes>"
      ]
     },
     "metadata": {
      "needs_background": "light"
     },
     "output_type": "display_data"
    }
   ],
   "source": [
    "speed_catplot('Color2', 'Secondary colour by adoption speed', 'Adoption speed by secondary color')"
   ]
  },
  {
   "cell_type": "markdown",
   "metadata": {},
   "source": [
    "As with the primary colour, the secondary colour of a pet has no clear relationship with the adoption speed of said pet."
   ]
  },
  {
   "cell_type": "markdown",
   "metadata": {},
   "source": [
    "### Color3"
   ]
  },
  {
   "cell_type": "code",
   "execution_count": 49,
   "metadata": {},
   "outputs": [
    {
     "data": {
      "image/png": "[encoded data removed]",
      "text/plain": [
       "<Figure size 864x360 with 2 Axes>"
      ]
     },
     "metadata": {
      "needs_background": "light"
     },
     "output_type": "display_data"
    }
   ],
   "source": [
    "train_test_catplot('Color3')"
   ]
  },
  {
   "cell_type": "markdown",
   "metadata": {},
   "source": [
    "The overwhelming majority of pets do not have a tertiary colour. The most common tertiary colour is white."
   ]
  },
  {
   "cell_type": "code",
   "execution_count": 50,
   "metadata": {},
   "outputs": [
    {
     "data": {
      "image/png": "[encoded data removed]",
      "text/plain": [
       "<Figure size 864x360 with 2 Axes>"
      ]
     },
     "metadata": {
      "needs_background": "light"
     },
     "output_type": "display_data"
    }
   ],
   "source": [
    "speed_catplot('Color3', 'Tertiary colour by adoption speed', 'Adoption speed by tertiary colour')"
   ]
  },
  {
   "cell_type": "markdown",
   "metadata": {},
   "source": [
    "The presence of a tertiary colour does not appear to have an impact on adoption speed."
   ]
  },
  {
   "cell_type": "markdown",
   "metadata": {},
   "source": [
    "## Malaysian state"
   ]
  },
  {
   "cell_type": "markdown",
   "metadata": {},
   "source": [
    "`State` contains codes for the state of Malaysia in which the pet is available for adoption. The conversion between labels and state names is below:"
   ]
  },
  {
   "cell_type": "code",
   "execution_count": 52,
   "metadata": {},
   "outputs": [
    {
     "data": {
      "text/html": [
       "<div>\n",
       "<style scoped>\n",
       "    .dataframe tbody tr th:only-of-type {\n",
       "        vertical-align: middle;\n",
       "    }\n",
       "\n",
       "    .dataframe tbody tr th {\n",
       "        vertical-align: top;\n",
       "    }\n",
       "\n",
       "    .dataframe thead th {\n",
       "        text-align: right;\n",
       "    }\n",
       "</style>\n",
       "<table border=\"1\" class=\"dataframe\">\n",
       "  <thead>\n",
       "    <tr style=\"text-align: right;\">\n",
       "      <th></th>\n",
       "      <th>StateID</th>\n",
       "      <th>StateName</th>\n",
       "    </tr>\n",
       "  </thead>\n",
       "  <tbody>\n",
       "    <tr>\n",
       "      <th>0</th>\n",
       "      <td>41336</td>\n",
       "      <td>Johor</td>\n",
       "    </tr>\n",
       "    <tr>\n",
       "      <th>1</th>\n",
       "      <td>41325</td>\n",
       "      <td>Kedah</td>\n",
       "    </tr>\n",
       "    <tr>\n",
       "      <th>2</th>\n",
       "      <td>41367</td>\n",
       "      <td>Kelantan</td>\n",
       "    </tr>\n",
       "    <tr>\n",
       "      <th>3</th>\n",
       "      <td>41401</td>\n",
       "      <td>Kuala Lumpur</td>\n",
       "    </tr>\n",
       "    <tr>\n",
       "      <th>4</th>\n",
       "      <td>41415</td>\n",
       "      <td>Labuan</td>\n",
       "    </tr>\n",
       "    <tr>\n",
       "      <th>5</th>\n",
       "      <td>41324</td>\n",
       "      <td>Melaka</td>\n",
       "    </tr>\n",
       "    <tr>\n",
       "      <th>6</th>\n",
       "      <td>41332</td>\n",
       "      <td>Negeri Sembilan</td>\n",
       "    </tr>\n",
       "    <tr>\n",
       "      <th>7</th>\n",
       "      <td>41335</td>\n",
       "      <td>Pahang</td>\n",
       "    </tr>\n",
       "    <tr>\n",
       "      <th>8</th>\n",
       "      <td>41330</td>\n",
       "      <td>Perak</td>\n",
       "    </tr>\n",
       "    <tr>\n",
       "      <th>9</th>\n",
       "      <td>41380</td>\n",
       "      <td>Perlis</td>\n",
       "    </tr>\n",
       "    <tr>\n",
       "      <th>10</th>\n",
       "      <td>41327</td>\n",
       "      <td>Pulau Pinang</td>\n",
       "    </tr>\n",
       "    <tr>\n",
       "      <th>11</th>\n",
       "      <td>41345</td>\n",
       "      <td>Sabah</td>\n",
       "    </tr>\n",
       "    <tr>\n",
       "      <th>12</th>\n",
       "      <td>41342</td>\n",
       "      <td>Sarawak</td>\n",
       "    </tr>\n",
       "    <tr>\n",
       "      <th>13</th>\n",
       "      <td>41326</td>\n",
       "      <td>Selangor</td>\n",
       "    </tr>\n",
       "    <tr>\n",
       "      <th>14</th>\n",
       "      <td>41361</td>\n",
       "      <td>Terengganu</td>\n",
       "    </tr>\n",
       "  </tbody>\n",
       "</table>\n",
       "</div>"
      ],
      "text/plain": [
       "    StateID        StateName\n",
       "0     41336            Johor\n",
       "1     41325            Kedah\n",
       "2     41367         Kelantan\n",
       "3     41401     Kuala Lumpur\n",
       "4     41415           Labuan\n",
       "5     41324           Melaka\n",
       "6     41332  Negeri Sembilan\n",
       "7     41335           Pahang\n",
       "8     41330            Perak\n",
       "9     41380           Perlis\n",
       "10    41327     Pulau Pinang\n",
       "11    41345            Sabah\n",
       "12    41342          Sarawak\n",
       "13    41326         Selangor\n",
       "14    41361       Terengganu"
      ]
     },
     "execution_count": 52,
     "metadata": {},
     "output_type": "execute_result"
    }
   ],
   "source": [
    "states"
   ]
  },
  {
   "cell_type": "markdown",
   "metadata": {},
   "source": [
    "There are too many states to neatly plot, so the data is shown in tables instead."
   ]
  },
  {
   "cell_type": "code",
   "execution_count": 58,
   "metadata": {
    "scrolled": true
   },
   "outputs": [
    {
     "data": {
      "text/plain": [
       "41326    8714\n",
       "41401    3845\n",
       "41327     843\n",
       "41336     507\n",
       "41330     420\n",
       "41332     253\n",
       "41324     137\n",
       "41325     110\n",
       "41335      85\n",
       "41361      26\n",
       "41345      22\n",
       "41367      15\n",
       "41342      13\n",
       "41415       3\n",
       "Name: State, dtype: int64"
      ]
     },
     "execution_count": 58,
     "metadata": {},
     "output_type": "execute_result"
    }
   ],
   "source": [
    "all_train['State'].value_counts()"
   ]
  },
  {
   "cell_type": "code",
   "execution_count": 59,
   "metadata": {
    "scrolled": true
   },
   "outputs": [
    {
     "data": {
      "text/plain": [
       "41326    2018\n",
       "41401    1279\n",
       "41327     229\n",
       "41336     136\n",
       "41330     104\n",
       "41332      55\n",
       "41324      47\n",
       "41325      45\n",
       "41342      22\n",
       "41345       7\n",
       "41367       2\n",
       "41361       2\n",
       "41335       2\n",
       "Name: State, dtype: int64"
      ]
     },
     "execution_count": 59,
     "metadata": {},
     "output_type": "execute_result"
    }
   ],
   "source": [
    "all_test['State'].value_counts()"
   ]
  },
  {
   "cell_type": "markdown",
   "metadata": {},
   "source": [
    "Looking at this and comparing it to the [state population sizes](https://en.wikipedia.org/wiki/States_and_federal_territories_of_Malaysia) on Wikipedia, the ordering here is largely an ordering of states by population. Basically, larger states have more animals listed for adoption than smaller states. This is unsurprising. It might be beneficial to create a *per capita* feature later on to fix this."
   ]
  },
  {
   "cell_type": "markdown",
   "metadata": {},
   "source": [
    "## Pet breeds"
   ]
  },
  {
   "cell_type": "markdown",
   "metadata": {},
   "source": [
    "TODO.\n",
    "\n",
    "There's rather a lot of them and it'll take time to work out how best to approach the visualisation."
   ]
  },
  {
   "cell_type": "markdown",
   "metadata": {},
   "source": [
    "## Summary"
   ]
  },
  {
   "cell_type": "markdown",
   "metadata": {},
   "source": [
    "Very few of the features provided in `train.csv` and `test.csv` appear to have much impact on the target variable `AdoptionSpeed`. This will make highly accurate predictions difficult. It should be noted, however, that no correlation tests have been carried out at this stage. While it is common to visualisation correlation matrices before modeling, in this project I take the approach of fitting a random forest to the totality of the features (including those derived in the Feature Engineering notebook) and examing both feature importances and correlations from that model."
   ]
  }
 ],
 "metadata": {
  "kernelspec": {
   "display_name": "Python 3",
   "language": "python",
   "name": "python3"
  },
  "language_info": {
   "codemirror_mode": {
    "name": "ipython",
    "version": 3
   },
   "file_extension": ".py",
   "mimetype": "text/x-python",
   "name": "python",
   "nbconvert_exporter": "python",
   "pygments_lexer": "ipython3",
   "version": "3.6.5"
  }
 },
 "nbformat": 4,
 "nbformat_minor": 2
}
